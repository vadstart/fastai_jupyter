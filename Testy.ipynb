{
 "cells": [
  {
   "cell_type": "code",
   "execution_count": 1,
   "id": "7f768cfa-2c25-4b45-be9e-b8f4effa17bf",
   "metadata": {},
   "outputs": [
    {
     "name": "stdout",
     "output_type": "stream",
     "text": [
      "Requirement already satisfied: duckduckgo-search in ./.venv/lib/python3.13/site-packages (8.0.4)\n",
      "Requirement already satisfied: click>=8.1.8 in ./.venv/lib/python3.13/site-packages (from duckduckgo-search) (8.2.1)\n",
      "Requirement already satisfied: primp>=0.15.0 in ./.venv/lib/python3.13/site-packages (from duckduckgo-search) (0.15.0)\n",
      "Requirement already satisfied: lxml>=5.3.0 in ./.venv/lib/python3.13/site-packages (from duckduckgo-search) (5.4.0)\n",
      "\n",
      "\u001b[1m[\u001b[0m\u001b[34;49mnotice\u001b[0m\u001b[1;39;49m]\u001b[0m\u001b[39;49m A new release of pip is available: \u001b[0m\u001b[31;49m25.0.1\u001b[0m\u001b[39;49m -> \u001b[0m\u001b[32;49m25.1.1\u001b[0m\n",
      "\u001b[1m[\u001b[0m\u001b[34;49mnotice\u001b[0m\u001b[1;39;49m]\u001b[0m\u001b[39;49m To update, run: \u001b[0m\u001b[32;49mpip install --upgrade pip\u001b[0m\n",
      "Requirement already satisfied: fastai in ./.venv/lib/python3.13/site-packages (2.8.2)\n",
      "Requirement already satisfied: pip in ./.venv/lib/python3.13/site-packages (from fastai) (25.0.1)\n",
      "Requirement already satisfied: packaging in ./.venv/lib/python3.13/site-packages (from fastai) (25.0)\n",
      "Requirement already satisfied: fastdownload<2,>=0.0.5 in ./.venv/lib/python3.13/site-packages (from fastai) (0.0.7)\n",
      "Requirement already satisfied: fastcore<1.9,>=1.8.0 in ./.venv/lib/python3.13/site-packages (from fastai) (1.8.2)\n",
      "Requirement already satisfied: fasttransform>=0.0.2 in ./.venv/lib/python3.13/site-packages (from fastai) (0.0.2)\n",
      "Requirement already satisfied: torchvision>=0.11 in ./.venv/lib/python3.13/site-packages (from fastai) (0.22.1)\n",
      "Requirement already satisfied: matplotlib in ./.venv/lib/python3.13/site-packages (from fastai) (3.10.3)\n",
      "Requirement already satisfied: pandas in ./.venv/lib/python3.13/site-packages (from fastai) (2.3.0)\n",
      "Requirement already satisfied: requests in ./.venv/lib/python3.13/site-packages (from fastai) (2.32.4)\n",
      "Requirement already satisfied: pyyaml in ./.venv/lib/python3.13/site-packages (from fastai) (6.0.2)\n",
      "Requirement already satisfied: fastprogress>=0.2.4 in ./.venv/lib/python3.13/site-packages (from fastai) (1.0.3)\n",
      "Requirement already satisfied: pillow>=9.0.0 in ./.venv/lib/python3.13/site-packages (from fastai) (11.2.1)\n",
      "Requirement already satisfied: scikit-learn in ./.venv/lib/python3.13/site-packages (from fastai) (1.7.0)\n",
      "Requirement already satisfied: scipy in ./.venv/lib/python3.13/site-packages (from fastai) (1.15.3)\n",
      "Requirement already satisfied: spacy<4 in ./.venv/lib/python3.13/site-packages (from fastai) (3.8.7)\n",
      "Requirement already satisfied: plum-dispatch in ./.venv/lib/python3.13/site-packages (from fastai) (2.5.7)\n",
      "Requirement already satisfied: cloudpickle in ./.venv/lib/python3.13/site-packages (from fastai) (3.1.1)\n",
      "Requirement already satisfied: torch<2.8,>=1.10 in ./.venv/lib/python3.13/site-packages (from fastai) (2.7.1)\n",
      "Requirement already satisfied: spacy-legacy<3.1.0,>=3.0.11 in ./.venv/lib/python3.13/site-packages (from spacy<4->fastai) (3.0.12)\n",
      "Requirement already satisfied: spacy-loggers<2.0.0,>=1.0.0 in ./.venv/lib/python3.13/site-packages (from spacy<4->fastai) (1.0.5)\n",
      "Requirement already satisfied: murmurhash<1.1.0,>=0.28.0 in ./.venv/lib/python3.13/site-packages (from spacy<4->fastai) (1.0.13)\n",
      "Requirement already satisfied: cymem<2.1.0,>=2.0.2 in ./.venv/lib/python3.13/site-packages (from spacy<4->fastai) (2.0.11)\n",
      "Requirement already satisfied: preshed<3.1.0,>=3.0.2 in ./.venv/lib/python3.13/site-packages (from spacy<4->fastai) (3.0.10)\n",
      "Requirement already satisfied: thinc<8.4.0,>=8.3.4 in ./.venv/lib/python3.13/site-packages (from spacy<4->fastai) (8.3.6)\n",
      "Requirement already satisfied: wasabi<1.2.0,>=0.9.1 in ./.venv/lib/python3.13/site-packages (from spacy<4->fastai) (1.1.3)\n",
      "Requirement already satisfied: srsly<3.0.0,>=2.4.3 in ./.venv/lib/python3.13/site-packages (from spacy<4->fastai) (2.5.1)\n",
      "Requirement already satisfied: catalogue<2.1.0,>=2.0.6 in ./.venv/lib/python3.13/site-packages (from spacy<4->fastai) (2.0.10)\n",
      "Requirement already satisfied: weasel<0.5.0,>=0.1.0 in ./.venv/lib/python3.13/site-packages (from spacy<4->fastai) (0.4.1)\n",
      "Requirement already satisfied: typer<1.0.0,>=0.3.0 in ./.venv/lib/python3.13/site-packages (from spacy<4->fastai) (0.16.0)\n",
      "Requirement already satisfied: tqdm<5.0.0,>=4.38.0 in ./.venv/lib/python3.13/site-packages (from spacy<4->fastai) (4.67.1)\n",
      "Requirement already satisfied: numpy>=1.19.0 in ./.venv/lib/python3.13/site-packages (from spacy<4->fastai) (2.3.0)\n",
      "Requirement already satisfied: pydantic!=1.8,!=1.8.1,<3.0.0,>=1.7.4 in ./.venv/lib/python3.13/site-packages (from spacy<4->fastai) (2.11.6)\n",
      "Requirement already satisfied: jinja2 in ./.venv/lib/python3.13/site-packages (from spacy<4->fastai) (3.1.6)\n",
      "Requirement already satisfied: setuptools in ./.venv/lib/python3.13/site-packages (from spacy<4->fastai) (80.9.0)\n",
      "Requirement already satisfied: langcodes<4.0.0,>=3.2.0 in ./.venv/lib/python3.13/site-packages (from spacy<4->fastai) (3.5.0)\n",
      "Requirement already satisfied: charset_normalizer<4,>=2 in ./.venv/lib/python3.13/site-packages (from requests->fastai) (3.4.2)\n",
      "Requirement already satisfied: idna<4,>=2.5 in ./.venv/lib/python3.13/site-packages (from requests->fastai) (3.10)\n",
      "Requirement already satisfied: urllib3<3,>=1.21.1 in ./.venv/lib/python3.13/site-packages (from requests->fastai) (2.4.0)\n",
      "Requirement already satisfied: certifi>=2017.4.17 in ./.venv/lib/python3.13/site-packages (from requests->fastai) (2025.4.26)\n",
      "Requirement already satisfied: filelock in ./.venv/lib/python3.13/site-packages (from torch<2.8,>=1.10->fastai) (3.18.0)\n",
      "Requirement already satisfied: typing-extensions>=4.10.0 in ./.venv/lib/python3.13/site-packages (from torch<2.8,>=1.10->fastai) (4.14.0)\n",
      "Requirement already satisfied: sympy>=1.13.3 in ./.venv/lib/python3.13/site-packages (from torch<2.8,>=1.10->fastai) (1.14.0)\n",
      "Requirement already satisfied: networkx in ./.venv/lib/python3.13/site-packages (from torch<2.8,>=1.10->fastai) (3.5)\n",
      "Requirement already satisfied: fsspec in ./.venv/lib/python3.13/site-packages (from torch<2.8,>=1.10->fastai) (2025.5.1)\n",
      "Requirement already satisfied: nvidia-cuda-nvrtc-cu12==12.6.77 in ./.venv/lib/python3.13/site-packages (from torch<2.8,>=1.10->fastai) (12.6.77)\n",
      "Requirement already satisfied: nvidia-cuda-runtime-cu12==12.6.77 in ./.venv/lib/python3.13/site-packages (from torch<2.8,>=1.10->fastai) (12.6.77)\n",
      "Requirement already satisfied: nvidia-cuda-cupti-cu12==12.6.80 in ./.venv/lib/python3.13/site-packages (from torch<2.8,>=1.10->fastai) (12.6.80)\n",
      "Requirement already satisfied: nvidia-cudnn-cu12==9.5.1.17 in ./.venv/lib/python3.13/site-packages (from torch<2.8,>=1.10->fastai) (9.5.1.17)\n",
      "Requirement already satisfied: nvidia-cublas-cu12==12.6.4.1 in ./.venv/lib/python3.13/site-packages (from torch<2.8,>=1.10->fastai) (12.6.4.1)\n",
      "Requirement already satisfied: nvidia-cufft-cu12==11.3.0.4 in ./.venv/lib/python3.13/site-packages (from torch<2.8,>=1.10->fastai) (11.3.0.4)\n",
      "Requirement already satisfied: nvidia-curand-cu12==10.3.7.77 in ./.venv/lib/python3.13/site-packages (from torch<2.8,>=1.10->fastai) (10.3.7.77)\n",
      "Requirement already satisfied: nvidia-cusolver-cu12==11.7.1.2 in ./.venv/lib/python3.13/site-packages (from torch<2.8,>=1.10->fastai) (11.7.1.2)\n",
      "Requirement already satisfied: nvidia-cusparse-cu12==12.5.4.2 in ./.venv/lib/python3.13/site-packages (from torch<2.8,>=1.10->fastai) (12.5.4.2)\n",
      "Requirement already satisfied: nvidia-cusparselt-cu12==0.6.3 in ./.venv/lib/python3.13/site-packages (from torch<2.8,>=1.10->fastai) (0.6.3)\n",
      "Requirement already satisfied: nvidia-nccl-cu12==2.26.2 in ./.venv/lib/python3.13/site-packages (from torch<2.8,>=1.10->fastai) (2.26.2)\n",
      "Requirement already satisfied: nvidia-nvtx-cu12==12.6.77 in ./.venv/lib/python3.13/site-packages (from torch<2.8,>=1.10->fastai) (12.6.77)\n",
      "Requirement already satisfied: nvidia-nvjitlink-cu12==12.6.85 in ./.venv/lib/python3.13/site-packages (from torch<2.8,>=1.10->fastai) (12.6.85)\n",
      "Requirement already satisfied: nvidia-cufile-cu12==1.11.1.6 in ./.venv/lib/python3.13/site-packages (from torch<2.8,>=1.10->fastai) (1.11.1.6)\n",
      "Requirement already satisfied: triton==3.3.1 in ./.venv/lib/python3.13/site-packages (from torch<2.8,>=1.10->fastai) (3.3.1)\n",
      "Requirement already satisfied: contourpy>=1.0.1 in ./.venv/lib/python3.13/site-packages (from matplotlib->fastai) (1.3.2)\n",
      "Requirement already satisfied: cycler>=0.10 in ./.venv/lib/python3.13/site-packages (from matplotlib->fastai) (0.12.1)\n",
      "Requirement already satisfied: fonttools>=4.22.0 in ./.venv/lib/python3.13/site-packages (from matplotlib->fastai) (4.58.3)\n",
      "Requirement already satisfied: kiwisolver>=1.3.1 in ./.venv/lib/python3.13/site-packages (from matplotlib->fastai) (1.4.8)\n",
      "Requirement already satisfied: pyparsing>=2.3.1 in ./.venv/lib/python3.13/site-packages (from matplotlib->fastai) (3.2.3)\n",
      "Requirement already satisfied: python-dateutil>=2.7 in ./.venv/lib/python3.13/site-packages (from matplotlib->fastai) (2.9.0.post0)\n",
      "Requirement already satisfied: pytz>=2020.1 in ./.venv/lib/python3.13/site-packages (from pandas->fastai) (2025.2)\n",
      "Requirement already satisfied: tzdata>=2022.7 in ./.venv/lib/python3.13/site-packages (from pandas->fastai) (2025.2)\n",
      "Requirement already satisfied: beartype>=0.16.2 in ./.venv/lib/python3.13/site-packages (from plum-dispatch->fastai) (0.21.0)\n",
      "Requirement already satisfied: rich>=10.0 in ./.venv/lib/python3.13/site-packages (from plum-dispatch->fastai) (14.0.0)\n",
      "Requirement already satisfied: joblib>=1.2.0 in ./.venv/lib/python3.13/site-packages (from scikit-learn->fastai) (1.5.1)\n",
      "Requirement already satisfied: threadpoolctl>=3.1.0 in ./.venv/lib/python3.13/site-packages (from scikit-learn->fastai) (3.6.0)\n",
      "Requirement already satisfied: language-data>=1.2 in ./.venv/lib/python3.13/site-packages (from langcodes<4.0.0,>=3.2.0->spacy<4->fastai) (1.3.0)\n",
      "Requirement already satisfied: annotated-types>=0.6.0 in ./.venv/lib/python3.13/site-packages (from pydantic!=1.8,!=1.8.1,<3.0.0,>=1.7.4->spacy<4->fastai) (0.7.0)\n",
      "Requirement already satisfied: pydantic-core==2.33.2 in ./.venv/lib/python3.13/site-packages (from pydantic!=1.8,!=1.8.1,<3.0.0,>=1.7.4->spacy<4->fastai) (2.33.2)\n",
      "Requirement already satisfied: typing-inspection>=0.4.0 in ./.venv/lib/python3.13/site-packages (from pydantic!=1.8,!=1.8.1,<3.0.0,>=1.7.4->spacy<4->fastai) (0.4.1)\n",
      "Requirement already satisfied: six>=1.5 in ./.venv/lib/python3.13/site-packages (from python-dateutil>=2.7->matplotlib->fastai) (1.17.0)\n",
      "Requirement already satisfied: markdown-it-py>=2.2.0 in ./.venv/lib/python3.13/site-packages (from rich>=10.0->plum-dispatch->fastai) (3.0.0)\n",
      "Requirement already satisfied: pygments<3.0.0,>=2.13.0 in ./.venv/lib/python3.13/site-packages (from rich>=10.0->plum-dispatch->fastai) (2.19.1)\n",
      "Requirement already satisfied: mpmath<1.4,>=1.1.0 in ./.venv/lib/python3.13/site-packages (from sympy>=1.13.3->torch<2.8,>=1.10->fastai) (1.3.0)\n",
      "Requirement already satisfied: blis<1.4.0,>=1.3.0 in ./.venv/lib/python3.13/site-packages (from thinc<8.4.0,>=8.3.4->spacy<4->fastai) (1.3.0)\n",
      "Requirement already satisfied: confection<1.0.0,>=0.0.1 in ./.venv/lib/python3.13/site-packages (from thinc<8.4.0,>=8.3.4->spacy<4->fastai) (0.1.5)\n",
      "Requirement already satisfied: click>=8.0.0 in ./.venv/lib/python3.13/site-packages (from typer<1.0.0,>=0.3.0->spacy<4->fastai) (8.2.1)\n",
      "Requirement already satisfied: shellingham>=1.3.0 in ./.venv/lib/python3.13/site-packages (from typer<1.0.0,>=0.3.0->spacy<4->fastai) (1.5.4)\n",
      "Requirement already satisfied: cloudpathlib<1.0.0,>=0.7.0 in ./.venv/lib/python3.13/site-packages (from weasel<0.5.0,>=0.1.0->spacy<4->fastai) (0.21.1)\n",
      "Requirement already satisfied: smart-open<8.0.0,>=5.2.1 in ./.venv/lib/python3.13/site-packages (from weasel<0.5.0,>=0.1.0->spacy<4->fastai) (7.1.0)\n",
      "Requirement already satisfied: MarkupSafe>=2.0 in ./.venv/lib/python3.13/site-packages (from jinja2->spacy<4->fastai) (3.0.2)\n",
      "Requirement already satisfied: marisa-trie>=1.1.0 in ./.venv/lib/python3.13/site-packages (from language-data>=1.2->langcodes<4.0.0,>=3.2.0->spacy<4->fastai) (1.2.1)\n",
      "Requirement already satisfied: mdurl~=0.1 in ./.venv/lib/python3.13/site-packages (from markdown-it-py>=2.2.0->rich>=10.0->plum-dispatch->fastai) (0.1.2)\n",
      "Requirement already satisfied: wrapt in ./.venv/lib/python3.13/site-packages (from smart-open<8.0.0,>=5.2.1->weasel<0.5.0,>=0.1.0->spacy<4->fastai) (1.17.2)\n",
      "\n",
      "\u001b[1m[\u001b[0m\u001b[34;49mnotice\u001b[0m\u001b[1;39;49m]\u001b[0m\u001b[39;49m A new release of pip is available: \u001b[0m\u001b[31;49m25.0.1\u001b[0m\u001b[39;49m -> \u001b[0m\u001b[32;49m25.1.1\u001b[0m\n",
      "\u001b[1m[\u001b[0m\u001b[34;49mnotice\u001b[0m\u001b[1;39;49m]\u001b[0m\u001b[39;49m To update, run: \u001b[0m\u001b[32;49mpip install --upgrade pip\u001b[0m\n"
     ]
    }
   ],
   "source": [
    "!pip install duckduckgo-search\n",
    "!pip install fastai"
   ]
  },
  {
   "cell_type": "code",
   "execution_count": 4,
   "id": "7bc48f25-cfb8-4067-a286-246d67b26abe",
   "metadata": {},
   "outputs": [],
   "source": [
    "import certifi\n",
    "import urllib.request\n",
    "import ssl\n",
    "from duckduckgo_search import DDGS\n",
    "from fastai.vision.all import *\n",
    "\n",
    "DATA_DIR = Path(\"data\")\n",
    "MODEL_PATH = Path(\"exercise_classifier.pkl\")\n",
    "\n",
    "def download_image_with_headers(url: str, dest: Path):\n",
    "    headers = {\n",
    "        \"User-Agent\": \"Mozilla/5.0\"\n",
    "    }\n",
    "    req = urllib.request.Request(url, headers=headers)\n",
    "    ctx = ssl.create_default_context(cafile=certifi.where())\n",
    "\n",
    "    with urllib.request.urlopen(req, context=ctx) as response:\n",
    "        dest.write_bytes(response.read())\n",
    "\n",
    "def search_images_ddg(keywords, max_images = 30):\n",
    "    return L(DDGS().images(keywords, max_results=max_images)).itemgot(\"image\")\n",
    "\n",
    "def download(label: str, n: int = 30):\n",
    "    dest = DATA_DIR/label\n",
    "    dest.mkdir(parents=True, exist_ok=True)\n",
    "    urls = search_images_ddg(f\"{label} photo\", max_images = n)\n",
    "    for i, url in enumerate(urls):\n",
    "        try:\n",
    "            img_path = dest/f\"{label}_{i}.jpg\"\n",
    "            download_image_with_headers(url, img_path)\n",
    "        except Exception as e:\n",
    "            print(f\"Failed: {url} - {e}\")\n",
    "    print(f\"Downloaded {len(dest.ls())} images to {dest}\")"
   ]
  },
  {
   "cell_type": "code",
   "execution_count": 12,
   "id": "993c46fc-3d5e-4622-ada1-308b6fd43724",
   "metadata": {},
   "outputs": [
    {
     "name": "stdout",
     "output_type": "stream",
     "text": [
      "Failed: https://www.johnsonfitness.com/blog/wp-content/uploads/2015/11/iStock_000042278894_Full-2.jpg - HTTP Error 403: Forbidden\n",
      "Failed: https://www.publicdomainpictures.net/pictures/380000/velka/push-up-excercise-1610372643pLR.jpg - HTTP Error 403: Forbidden\n",
      "Failed: https://www.sahilfitness.com/wp-content/uploads/2021/08/Push-Up-On-Knees_Exercise-1024x1001.jpg - <urlopen error [Errno 8] nodename nor servname provided, or not known>\n",
      "Failed: https://blog.nasm.org/hubfs/Guide+to+Push+ups+Main+Image.jpg - HTTP Error 404: Not Found\n",
      "Downloaded 26 images to data/pushup exercise\n"
     ]
    }
   ],
   "source": [
    "download(\"pushup exercise\")"
   ]
  },
  {
   "cell_type": "code",
   "execution_count": 13,
   "id": "c295ad13-b8e8-454e-b7c9-4286eb43ceba",
   "metadata": {},
   "outputs": [
    {
     "data": {
      "image/jpeg": "[encoded data removed]",
      "image/png": "[encoded data removed]",
      "text/plain": [
       "<PIL.Image.Image image mode=RGB size=128x128>"
      ]
     },
     "execution_count": 13,
     "metadata": {},
     "output_type": "execute_result"
    }
   ],
   "source": [
    "dest = \"data/pushup/pushup exercise_0.jpg\"\n",
    "im = Image.open(dest)\n",
    "im.to_thumb(128,128)"
   ]
  },
  {
   "cell_type": "code",
   "execution_count": 14,
   "id": "8913dceb-1b06-4eeb-9bcc-9b6e18f0f9cc",
   "metadata": {},
   "outputs": [
    {
     "name": "stdout",
     "output_type": "stream",
     "text": [
      "Failed: http://blogs.rdxsports.com/wp-content/uploads/2017/11/pull-up-bar-exercises.jpg - HTTP Error 403: Forbidden\n",
      "Downloaded 29 images to data/pullup\n"
     ]
    },
    {
     "ename": "RatelimitException",
     "evalue": "https://duckduckgo.com/i.js?o=json&q=squat+photo&l=wt-wt&vqd=4-155037169891442778378749077933544505630&p=1&f=%2C%2C%2C%2C%2C 403 Ratelimit",
     "output_type": "error",
     "traceback": [
      "\u001b[31m---------------------------------------------------------------------------\u001b[39m",
      "\u001b[31mRatelimitException\u001b[39m                        Traceback (most recent call last)",
      "\u001b[36mCell\u001b[39m\u001b[36m \u001b[39m\u001b[32mIn[14]\u001b[39m\u001b[32m, line 2\u001b[39m\n\u001b[32m      1\u001b[39m download(\u001b[33m\"\u001b[39m\u001b[33mpullup\u001b[39m\u001b[33m\"\u001b[39m)\n\u001b[32m----> \u001b[39m\u001b[32m2\u001b[39m \u001b[43mdownload\u001b[49m\u001b[43m(\u001b[49m\u001b[33;43m\"\u001b[39;49m\u001b[33;43msquat\u001b[39;49m\u001b[33;43m\"\u001b[39;49m\u001b[43m)\u001b[49m\n",
      "\u001b[36mCell\u001b[39m\u001b[36m \u001b[39m\u001b[32mIn[11]\u001b[39m\u001b[32m, line 26\u001b[39m, in \u001b[36mdownload\u001b[39m\u001b[34m(label, n)\u001b[39m\n\u001b[32m     24\u001b[39m dest = DATA_DIR/label\n\u001b[32m     25\u001b[39m dest.mkdir(parents=\u001b[38;5;28;01mTrue\u001b[39;00m, exist_ok=\u001b[38;5;28;01mTrue\u001b[39;00m)\n\u001b[32m---> \u001b[39m\u001b[32m26\u001b[39m urls = \u001b[43msearch_images_ddg\u001b[49m\u001b[43m(\u001b[49m\u001b[33;43mf\u001b[39;49m\u001b[33;43m\"\u001b[39;49m\u001b[38;5;132;43;01m{\u001b[39;49;00m\u001b[43mlabel\u001b[49m\u001b[38;5;132;43;01m}\u001b[39;49;00m\u001b[33;43m photo\u001b[39;49m\u001b[33;43m\"\u001b[39;49m\u001b[43m,\u001b[49m\u001b[43m \u001b[49m\u001b[43mmax_images\u001b[49m\u001b[43m \u001b[49m\u001b[43m=\u001b[49m\u001b[43m \u001b[49m\u001b[43mn\u001b[49m\u001b[43m)\u001b[49m\n\u001b[32m     27\u001b[39m \u001b[38;5;28;01mfor\u001b[39;00m i, url \u001b[38;5;129;01min\u001b[39;00m \u001b[38;5;28menumerate\u001b[39m(urls):\n\u001b[32m     28\u001b[39m     \u001b[38;5;28;01mtry\u001b[39;00m:\n",
      "\u001b[36mCell\u001b[39m\u001b[36m \u001b[39m\u001b[32mIn[11]\u001b[39m\u001b[32m, line 21\u001b[39m, in \u001b[36msearch_images_ddg\u001b[39m\u001b[34m(keywords, max_images)\u001b[39m\n\u001b[32m     20\u001b[39m \u001b[38;5;28;01mdef\u001b[39;00m\u001b[38;5;250m \u001b[39m\u001b[34msearch_images_ddg\u001b[39m(keywords, max_images = \u001b[32m30\u001b[39m):\n\u001b[32m---> \u001b[39m\u001b[32m21\u001b[39m     \u001b[38;5;28;01mreturn\u001b[39;00m L(\u001b[43mDDGS\u001b[49m\u001b[43m(\u001b[49m\u001b[43m)\u001b[49m\u001b[43m.\u001b[49m\u001b[43mimages\u001b[49m\u001b[43m(\u001b[49m\u001b[43mkeywords\u001b[49m\u001b[43m,\u001b[49m\u001b[43m \u001b[49m\u001b[43mmax_results\u001b[49m\u001b[43m=\u001b[49m\u001b[43mmax_images\u001b[49m\u001b[43m)\u001b[49m).itemgot(\u001b[33m\"\u001b[39m\u001b[33mimage\u001b[39m\u001b[33m\"\u001b[39m)\n",
      "\u001b[36mFile \u001b[39m\u001b[32m~/Documents/Projects/ML/FastAI/02-fastai-jupyter/.venv/lib/python3.12/site-packages/duckduckgo_search/duckduckgo_search.py:413\u001b[39m, in \u001b[36mDDGS.images\u001b[39m\u001b[34m(self, keywords, region, safesearch, timelimit, size, color, type_image, layout, license_image, max_results)\u001b[39m\n\u001b[32m    410\u001b[39m results: \u001b[38;5;28mlist\u001b[39m[\u001b[38;5;28mdict\u001b[39m[\u001b[38;5;28mstr\u001b[39m, \u001b[38;5;28mstr\u001b[39m]] = []\n\u001b[32m    412\u001b[39m \u001b[38;5;28;01mfor\u001b[39;00m _ \u001b[38;5;129;01min\u001b[39;00m \u001b[38;5;28mrange\u001b[39m(\u001b[32m5\u001b[39m):\n\u001b[32m--> \u001b[39m\u001b[32m413\u001b[39m     resp_content = \u001b[38;5;28;43mself\u001b[39;49m\u001b[43m.\u001b[49m\u001b[43m_get_url\u001b[49m\u001b[43m(\u001b[49m\n\u001b[32m    414\u001b[39m \u001b[43m        \u001b[49m\u001b[33;43m\"\u001b[39;49m\u001b[33;43mGET\u001b[39;49m\u001b[33;43m\"\u001b[39;49m\u001b[43m,\u001b[49m\u001b[43m \u001b[49m\u001b[33;43m\"\u001b[39;49m\u001b[33;43mhttps://duckduckgo.com/i.js\u001b[39;49m\u001b[33;43m\"\u001b[39;49m\u001b[43m,\u001b[49m\u001b[43m \u001b[49m\u001b[43mparams\u001b[49m\u001b[43m=\u001b[49m\u001b[43mpayload\u001b[49m\u001b[43m,\u001b[49m\u001b[43m \u001b[49m\u001b[43mheaders\u001b[49m\u001b[43m=\u001b[49m\u001b[43m{\u001b[49m\u001b[33;43m\"\u001b[39;49m\u001b[33;43mReferer\u001b[39;49m\u001b[33;43m\"\u001b[39;49m\u001b[43m:\u001b[49m\u001b[43m \u001b[49m\u001b[33;43m\"\u001b[39;49m\u001b[33;43mhttps://duckduckgo.com/\u001b[39;49m\u001b[33;43m\"\u001b[39;49m\u001b[43m}\u001b[49m\n\u001b[32m    415\u001b[39m \u001b[43m    \u001b[49m\u001b[43m)\u001b[49m.content\n\u001b[32m    416\u001b[39m     resp_json = json_loads(resp_content)\n\u001b[32m    417\u001b[39m     page_data = resp_json.get(\u001b[33m\"\u001b[39m\u001b[33mresults\u001b[39m\u001b[33m\"\u001b[39m, [])\n",
      "\u001b[36mFile \u001b[39m\u001b[32m~/Documents/Projects/ML/FastAI/02-fastai-jupyter/.venv/lib/python3.12/site-packages/duckduckgo_search/duckduckgo_search.py:129\u001b[39m, in \u001b[36mDDGS._get_url\u001b[39m\u001b[34m(self, method, url, params, content, data, headers, cookies, json, timeout)\u001b[39m\n\u001b[32m    127\u001b[39m     \u001b[38;5;28;01mreturn\u001b[39;00m resp\n\u001b[32m    128\u001b[39m \u001b[38;5;28;01melif\u001b[39;00m resp.status_code \u001b[38;5;129;01min\u001b[39;00m (\u001b[32m202\u001b[39m, \u001b[32m301\u001b[39m, \u001b[32m403\u001b[39m, \u001b[32m400\u001b[39m, \u001b[32m429\u001b[39m, \u001b[32m418\u001b[39m):\n\u001b[32m--> \u001b[39m\u001b[32m129\u001b[39m     \u001b[38;5;28;01mraise\u001b[39;00m RatelimitException(\u001b[33mf\u001b[39m\u001b[33m\"\u001b[39m\u001b[38;5;132;01m{\u001b[39;00mresp.url\u001b[38;5;132;01m}\u001b[39;00m\u001b[33m \u001b[39m\u001b[38;5;132;01m{\u001b[39;00mresp.status_code\u001b[38;5;132;01m}\u001b[39;00m\u001b[33m Ratelimit\u001b[39m\u001b[33m\"\u001b[39m)\n\u001b[32m    130\u001b[39m \u001b[38;5;28;01mraise\u001b[39;00m DuckDuckGoSearchException(\u001b[33mf\u001b[39m\u001b[33m\"\u001b[39m\u001b[38;5;132;01m{\u001b[39;00mresp.url\u001b[38;5;132;01m}\u001b[39;00m\u001b[33m return None. \u001b[39m\u001b[38;5;132;01m{\u001b[39;00mparams\u001b[38;5;132;01m=}\u001b[39;00m\u001b[33m \u001b[39m\u001b[38;5;132;01m{\u001b[39;00mcontent\u001b[38;5;132;01m=}\u001b[39;00m\u001b[33m \u001b[39m\u001b[38;5;132;01m{\u001b[39;00mdata\u001b[38;5;132;01m=}\u001b[39;00m\u001b[33m\"\u001b[39m)\n",
      "\u001b[31mRatelimitException\u001b[39m: https://duckduckgo.com/i.js?o=json&q=squat+photo&l=wt-wt&vqd=4-155037169891442778378749077933544505630&p=1&f=%2C%2C%2C%2C%2C 403 Ratelimit"
     ]
    }
   ],
   "source": [
    "download(\"pullup\")"
   ]
  },
  {
   "cell_type": "code",
   "execution_count": 15,
   "id": "5f67466c-08da-4f6a-9975-e1368b3b8899",
   "metadata": {},
   "outputs": [
    {
     "name": "stdout",
     "output_type": "stream",
     "text": [
      "Failed: https://www.publicdomainpictures.net/pictures/320000/velka/squats-157857424579J.jpg - HTTP Error 403: Forbidden\n",
      "Failed: http://new-sport-workout.com/wp-content/uploads/2018/07/1-4-1024x819.jpg - HTTP Error 404: Not Found\n",
      "Failed: https://www.stylist.co.uk/images/app/uploads/2020/03/02111207/how-to-squat.jpg?w=1200&h=1&fit=max&auto=format,compress - HTTP Error 403: Forbidden\n",
      "Downloaded 27 images to data/squat\n"
     ]
    }
   ],
   "source": [
    "download(\"squat\")"
   ]
  },
  {
   "cell_type": "code",
   "execution_count": 5,
   "id": "2d41461a-9eab-4ce5-9303-3a2fad224d8c",
   "metadata": {},
   "outputs": [
    {
     "name": "stdout",
     "output_type": "stream",
     "text": [
      "Failed 0 images\n"
     ]
    }
   ],
   "source": [
    "path = DATA_DIR\n",
    "failed = verify_images(get_image_files(path))\n",
    "failed.map(Path.unlink)\n",
    "print(f\"Failed {len(failed)} images\")"
   ]
  },
  {
   "cell_type": "code",
   "execution_count": 6,
   "id": "0347b4a0-aa78-4d0a-b25c-a3753f175ab1",
   "metadata": {},
   "outputs": [
    {
     "name": "stdout",
     "output_type": "stream",
     "text": [
      "verify_images(fns)\n",
      "Find images in `fns` that can't be opened\n",
      "\n",
      "To get a prettier result with hyperlinks to source code and documentation, install nbdev: pip install nbdev\n"
     ]
    }
   ],
   "source": [
    "doc(verify_images)"
   ]
  },
  {
   "cell_type": "code",
   "execution_count": null,
   "id": "42dbae84-a66f-4b4a-8a27-4ada9d6b9715",
   "metadata": {},
   "outputs": [
    {
     "name": "stdout",
     "output_type": "stream",
     "text": [
      "> \u001b[32m/tmp/ipykernel_99140/1189013952.py\u001b[39m(\u001b[92m1\u001b[39m)\u001b[36m<module>\u001b[39m\u001b[34m()\u001b[39m\n",
      "\u001b[32m----> 1\u001b[39m path = DATA_DIR\n",
      "\u001b[32m      2\u001b[39m failed = verify_images(get_image_files(path))\n",
      "\u001b[32m      3\u001b[39m failed.map(Path.unlink)\n",
      "\u001b[32m      4\u001b[39m print(f\"Failed {len(failed)} images\")\n",
      "\n"
     ]
    }
   ],
   "source": [
    "%debug"
   ]
  }
 ],
 "metadata": {
  "kernelspec": {
   "display_name": "Python 3 (ipykernel)",
   "language": "python",
   "name": "python3"
  },
  "language_info": {
   "codemirror_mode": {
    "name": "ipython",
    "version": 3
   },
   "file_extension": ".py",
   "mimetype": "text/x-python",
   "name": "python",
   "nbconvert_exporter": "python",
   "pygments_lexer": "ipython3",
   "version": "3.13.3"
  }
 },
 "nbformat": 4,
 "nbformat_minor": 5
}
