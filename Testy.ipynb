{
 "cells": [
  {
   "cell_type": "code",
   "execution_count": 1,
   "id": "7f768cfa-2c25-4b45-be9e-b8f4effa17bf",
   "metadata": {
    "collapsed": true,
    "jupyter": {
     "outputs_hidden": true
    },
    "scrolled": true
   },
   "outputs": [
    {
     "name": "stdout",
     "output_type": "stream",
     "text": [
      "Requirement already satisfied: duckduckgo-search in ./.venv/lib/python3.13/site-packages (8.0.4)\n",
      "Requirement already satisfied: click>=8.1.8 in ./.venv/lib/python3.13/site-packages (from duckduckgo-search) (8.2.1)\n",
      "Requirement already satisfied: primp>=0.15.0 in ./.venv/lib/python3.13/site-packages (from duckduckgo-search) (0.15.0)\n",
      "Requirement already satisfied: lxml>=5.3.0 in ./.venv/lib/python3.13/site-packages (from duckduckgo-search) (5.4.0)\n",
      "\n",
      "\u001b[1m[\u001b[0m\u001b[34;49mnotice\u001b[0m\u001b[1;39;49m]\u001b[0m\u001b[39;49m A new release of pip is available: \u001b[0m\u001b[31;49m25.0.1\u001b[0m\u001b[39;49m -> \u001b[0m\u001b[32;49m25.1.1\u001b[0m\n",
      "\u001b[1m[\u001b[0m\u001b[34;49mnotice\u001b[0m\u001b[1;39;49m]\u001b[0m\u001b[39;49m To update, run: \u001b[0m\u001b[32;49mpip install --upgrade pip\u001b[0m\n",
      "Requirement already satisfied: fastai in ./.venv/lib/python3.13/site-packages (2.8.2)\n",
      "Requirement already satisfied: pip in ./.venv/lib/python3.13/site-packages (from fastai) (25.0.1)\n",
      "Requirement already satisfied: packaging in ./.venv/lib/python3.13/site-packages (from fastai) (25.0)\n",
      "Requirement already satisfied: fastdownload<2,>=0.0.5 in ./.venv/lib/python3.13/site-packages (from fastai) (0.0.7)\n",
      "Requirement already satisfied: fastcore<1.9,>=1.8.0 in ./.venv/lib/python3.13/site-packages (from fastai) (1.8.2)\n",
      "Requirement already satisfied: fasttransform>=0.0.2 in ./.venv/lib/python3.13/site-packages (from fastai) (0.0.2)\n",
      "Requirement already satisfied: torchvision>=0.11 in ./.venv/lib/python3.13/site-packages (from fastai) (0.22.1)\n",
      "Requirement already satisfied: matplotlib in ./.venv/lib/python3.13/site-packages (from fastai) (3.10.3)\n",
      "Requirement already satisfied: pandas in ./.venv/lib/python3.13/site-packages (from fastai) (2.3.0)\n",
      "Requirement already satisfied: requests in ./.venv/lib/python3.13/site-packages (from fastai) (2.32.4)\n",
      "Requirement already satisfied: pyyaml in ./.venv/lib/python3.13/site-packages (from fastai) (6.0.2)\n",
      "Requirement already satisfied: fastprogress>=0.2.4 in ./.venv/lib/python3.13/site-packages (from fastai) (1.0.3)\n",
      "Requirement already satisfied: pillow>=9.0.0 in ./.venv/lib/python3.13/site-packages (from fastai) (11.2.1)\n",
      "Requirement already satisfied: scikit-learn in ./.venv/lib/python3.13/site-packages (from fastai) (1.7.0)\n",
      "Requirement already satisfied: scipy in ./.venv/lib/python3.13/site-packages (from fastai) (1.15.3)\n",
      "Requirement already satisfied: spacy<4 in ./.venv/lib/python3.13/site-packages (from fastai) (3.8.7)\n",
      "Requirement already satisfied: plum-dispatch in ./.venv/lib/python3.13/site-packages (from fastai) (2.5.7)\n",
      "Requirement already satisfied: cloudpickle in ./.venv/lib/python3.13/site-packages (from fastai) (3.1.1)\n",
      "Requirement already satisfied: torch<2.8,>=1.10 in ./.venv/lib/python3.13/site-packages (from fastai) (2.7.1)\n",
      "Requirement already satisfied: spacy-legacy<3.1.0,>=3.0.11 in ./.venv/lib/python3.13/site-packages (from spacy<4->fastai) (3.0.12)\n",
      "Requirement already satisfied: spacy-loggers<2.0.0,>=1.0.0 in ./.venv/lib/python3.13/site-packages (from spacy<4->fastai) (1.0.5)\n",
      "Requirement already satisfied: murmurhash<1.1.0,>=0.28.0 in ./.venv/lib/python3.13/site-packages (from spacy<4->fastai) (1.0.13)\n",
      "Requirement already satisfied: cymem<2.1.0,>=2.0.2 in ./.venv/lib/python3.13/site-packages (from spacy<4->fastai) (2.0.11)\n",
      "Requirement already satisfied: preshed<3.1.0,>=3.0.2 in ./.venv/lib/python3.13/site-packages (from spacy<4->fastai) (3.0.10)\n",
      "Requirement already satisfied: thinc<8.4.0,>=8.3.4 in ./.venv/lib/python3.13/site-packages (from spacy<4->fastai) (8.3.6)\n",
      "Requirement already satisfied: wasabi<1.2.0,>=0.9.1 in ./.venv/lib/python3.13/site-packages (from spacy<4->fastai) (1.1.3)\n",
      "Requirement already satisfied: srsly<3.0.0,>=2.4.3 in ./.venv/lib/python3.13/site-packages (from spacy<4->fastai) (2.5.1)\n",
      "Requirement already satisfied: catalogue<2.1.0,>=2.0.6 in ./.venv/lib/python3.13/site-packages (from spacy<4->fastai) (2.0.10)\n",
      "Requirement already satisfied: weasel<0.5.0,>=0.1.0 in ./.venv/lib/python3.13/site-packages (from spacy<4->fastai) (0.4.1)\n",
      "Requirement already satisfied: typer<1.0.0,>=0.3.0 in ./.venv/lib/python3.13/site-packages (from spacy<4->fastai) (0.16.0)\n",
      "Requirement already satisfied: tqdm<5.0.0,>=4.38.0 in ./.venv/lib/python3.13/site-packages (from spacy<4->fastai) (4.67.1)\n",
      "Requirement already satisfied: numpy>=1.19.0 in ./.venv/lib/python3.13/site-packages (from spacy<4->fastai) (2.3.0)\n",
      "Requirement already satisfied: pydantic!=1.8,!=1.8.1,<3.0.0,>=1.7.4 in ./.venv/lib/python3.13/site-packages (from spacy<4->fastai) (2.11.6)\n",
      "Requirement already satisfied: jinja2 in ./.venv/lib/python3.13/site-packages (from spacy<4->fastai) (3.1.6)\n",
      "Requirement already satisfied: setuptools in ./.venv/lib/python3.13/site-packages (from spacy<4->fastai) (80.9.0)\n",
      "Requirement already satisfied: langcodes<4.0.0,>=3.2.0 in ./.venv/lib/python3.13/site-packages (from spacy<4->fastai) (3.5.0)\n",
      "Requirement already satisfied: charset_normalizer<4,>=2 in ./.venv/lib/python3.13/site-packages (from requests->fastai) (3.4.2)\n",
      "Requirement already satisfied: idna<4,>=2.5 in ./.venv/lib/python3.13/site-packages (from requests->fastai) (3.10)\n",
      "Requirement already satisfied: urllib3<3,>=1.21.1 in ./.venv/lib/python3.13/site-packages (from requests->fastai) (2.4.0)\n",
      "Requirement already satisfied: certifi>=2017.4.17 in ./.venv/lib/python3.13/site-packages (from requests->fastai) (2025.4.26)\n",
      "Requirement already satisfied: filelock in ./.venv/lib/python3.13/site-packages (from torch<2.8,>=1.10->fastai) (3.18.0)\n",
      "Requirement already satisfied: typing-extensions>=4.10.0 in ./.venv/lib/python3.13/site-packages (from torch<2.8,>=1.10->fastai) (4.14.0)\n",
      "Requirement already satisfied: sympy>=1.13.3 in ./.venv/lib/python3.13/site-packages (from torch<2.8,>=1.10->fastai) (1.14.0)\n",
      "Requirement already satisfied: networkx in ./.venv/lib/python3.13/site-packages (from torch<2.8,>=1.10->fastai) (3.5)\n",
      "Requirement already satisfied: fsspec in ./.venv/lib/python3.13/site-packages (from torch<2.8,>=1.10->fastai) (2025.5.1)\n",
      "Requirement already satisfied: nvidia-cuda-nvrtc-cu12==12.6.77 in ./.venv/lib/python3.13/site-packages (from torch<2.8,>=1.10->fastai) (12.6.77)\n",
      "Requirement already satisfied: nvidia-cuda-runtime-cu12==12.6.77 in ./.venv/lib/python3.13/site-packages (from torch<2.8,>=1.10->fastai) (12.6.77)\n",
      "Requirement already satisfied: nvidia-cuda-cupti-cu12==12.6.80 in ./.venv/lib/python3.13/site-packages (from torch<2.8,>=1.10->fastai) (12.6.80)\n",
      "Requirement already satisfied: nvidia-cudnn-cu12==9.5.1.17 in ./.venv/lib/python3.13/site-packages (from torch<2.8,>=1.10->fastai) (9.5.1.17)\n",
      "Requirement already satisfied: nvidia-cublas-cu12==12.6.4.1 in ./.venv/lib/python3.13/site-packages (from torch<2.8,>=1.10->fastai) (12.6.4.1)\n",
      "Requirement already satisfied: nvidia-cufft-cu12==11.3.0.4 in ./.venv/lib/python3.13/site-packages (from torch<2.8,>=1.10->fastai) (11.3.0.4)\n",
      "Requirement already satisfied: nvidia-curand-cu12==10.3.7.77 in ./.venv/lib/python3.13/site-packages (from torch<2.8,>=1.10->fastai) (10.3.7.77)\n",
      "Requirement already satisfied: nvidia-cusolver-cu12==11.7.1.2 in ./.venv/lib/python3.13/site-packages (from torch<2.8,>=1.10->fastai) (11.7.1.2)\n",
      "Requirement already satisfied: nvidia-cusparse-cu12==12.5.4.2 in ./.venv/lib/python3.13/site-packages (from torch<2.8,>=1.10->fastai) (12.5.4.2)\n",
      "Requirement already satisfied: nvidia-cusparselt-cu12==0.6.3 in ./.venv/lib/python3.13/site-packages (from torch<2.8,>=1.10->fastai) (0.6.3)\n",
      "Requirement already satisfied: nvidia-nccl-cu12==2.26.2 in ./.venv/lib/python3.13/site-packages (from torch<2.8,>=1.10->fastai) (2.26.2)\n",
      "Requirement already satisfied: nvidia-nvtx-cu12==12.6.77 in ./.venv/lib/python3.13/site-packages (from torch<2.8,>=1.10->fastai) (12.6.77)\n",
      "Requirement already satisfied: nvidia-nvjitlink-cu12==12.6.85 in ./.venv/lib/python3.13/site-packages (from torch<2.8,>=1.10->fastai) (12.6.85)\n",
      "Requirement already satisfied: nvidia-cufile-cu12==1.11.1.6 in ./.venv/lib/python3.13/site-packages (from torch<2.8,>=1.10->fastai) (1.11.1.6)\n",
      "Requirement already satisfied: triton==3.3.1 in ./.venv/lib/python3.13/site-packages (from torch<2.8,>=1.10->fastai) (3.3.1)\n",
      "Requirement already satisfied: contourpy>=1.0.1 in ./.venv/lib/python3.13/site-packages (from matplotlib->fastai) (1.3.2)\n",
      "Requirement already satisfied: cycler>=0.10 in ./.venv/lib/python3.13/site-packages (from matplotlib->fastai) (0.12.1)\n",
      "Requirement already satisfied: fonttools>=4.22.0 in ./.venv/lib/python3.13/site-packages (from matplotlib->fastai) (4.58.3)\n",
      "Requirement already satisfied: kiwisolver>=1.3.1 in ./.venv/lib/python3.13/site-packages (from matplotlib->fastai) (1.4.8)\n",
      "Requirement already satisfied: pyparsing>=2.3.1 in ./.venv/lib/python3.13/site-packages (from matplotlib->fastai) (3.2.3)\n",
      "Requirement already satisfied: python-dateutil>=2.7 in ./.venv/lib/python3.13/site-packages (from matplotlib->fastai) (2.9.0.post0)\n",
      "Requirement already satisfied: pytz>=2020.1 in ./.venv/lib/python3.13/site-packages (from pandas->fastai) (2025.2)\n",
      "Requirement already satisfied: tzdata>=2022.7 in ./.venv/lib/python3.13/site-packages (from pandas->fastai) (2025.2)\n",
      "Requirement already satisfied: beartype>=0.16.2 in ./.venv/lib/python3.13/site-packages (from plum-dispatch->fastai) (0.21.0)\n",
      "Requirement already satisfied: rich>=10.0 in ./.venv/lib/python3.13/site-packages (from plum-dispatch->fastai) (14.0.0)\n",
      "Requirement already satisfied: joblib>=1.2.0 in ./.venv/lib/python3.13/site-packages (from scikit-learn->fastai) (1.5.1)\n",
      "Requirement already satisfied: threadpoolctl>=3.1.0 in ./.venv/lib/python3.13/site-packages (from scikit-learn->fastai) (3.6.0)\n",
      "Requirement already satisfied: language-data>=1.2 in ./.venv/lib/python3.13/site-packages (from langcodes<4.0.0,>=3.2.0->spacy<4->fastai) (1.3.0)\n",
      "Requirement already satisfied: annotated-types>=0.6.0 in ./.venv/lib/python3.13/site-packages (from pydantic!=1.8,!=1.8.1,<3.0.0,>=1.7.4->spacy<4->fastai) (0.7.0)\n",
      "Requirement already satisfied: pydantic-core==2.33.2 in ./.venv/lib/python3.13/site-packages (from pydantic!=1.8,!=1.8.1,<3.0.0,>=1.7.4->spacy<4->fastai) (2.33.2)\n",
      "Requirement already satisfied: typing-inspection>=0.4.0 in ./.venv/lib/python3.13/site-packages (from pydantic!=1.8,!=1.8.1,<3.0.0,>=1.7.4->spacy<4->fastai) (0.4.1)\n",
      "Requirement already satisfied: six>=1.5 in ./.venv/lib/python3.13/site-packages (from python-dateutil>=2.7->matplotlib->fastai) (1.17.0)\n",
      "Requirement already satisfied: markdown-it-py>=2.2.0 in ./.venv/lib/python3.13/site-packages (from rich>=10.0->plum-dispatch->fastai) (3.0.0)\n",
      "Requirement already satisfied: pygments<3.0.0,>=2.13.0 in ./.venv/lib/python3.13/site-packages (from rich>=10.0->plum-dispatch->fastai) (2.19.1)\n",
      "Requirement already satisfied: mpmath<1.4,>=1.1.0 in ./.venv/lib/python3.13/site-packages (from sympy>=1.13.3->torch<2.8,>=1.10->fastai) (1.3.0)\n",
      "Requirement already satisfied: blis<1.4.0,>=1.3.0 in ./.venv/lib/python3.13/site-packages (from thinc<8.4.0,>=8.3.4->spacy<4->fastai) (1.3.0)\n",
      "Requirement already satisfied: confection<1.0.0,>=0.0.1 in ./.venv/lib/python3.13/site-packages (from thinc<8.4.0,>=8.3.4->spacy<4->fastai) (0.1.5)\n",
      "Requirement already satisfied: click>=8.0.0 in ./.venv/lib/python3.13/site-packages (from typer<1.0.0,>=0.3.0->spacy<4->fastai) (8.2.1)\n",
      "Requirement already satisfied: shellingham>=1.3.0 in ./.venv/lib/python3.13/site-packages (from typer<1.0.0,>=0.3.0->spacy<4->fastai) (1.5.4)\n",
      "Requirement already satisfied: cloudpathlib<1.0.0,>=0.7.0 in ./.venv/lib/python3.13/site-packages (from weasel<0.5.0,>=0.1.0->spacy<4->fastai) (0.21.1)\n",
      "Requirement already satisfied: smart-open<8.0.0,>=5.2.1 in ./.venv/lib/python3.13/site-packages (from weasel<0.5.0,>=0.1.0->spacy<4->fastai) (7.1.0)\n",
      "Requirement already satisfied: MarkupSafe>=2.0 in ./.venv/lib/python3.13/site-packages (from jinja2->spacy<4->fastai) (3.0.2)\n",
      "Requirement already satisfied: marisa-trie>=1.1.0 in ./.venv/lib/python3.13/site-packages (from language-data>=1.2->langcodes<4.0.0,>=3.2.0->spacy<4->fastai) (1.2.1)\n",
      "Requirement already satisfied: mdurl~=0.1 in ./.venv/lib/python3.13/site-packages (from markdown-it-py>=2.2.0->rich>=10.0->plum-dispatch->fastai) (0.1.2)\n",
      "Requirement already satisfied: wrapt in ./.venv/lib/python3.13/site-packages (from smart-open<8.0.0,>=5.2.1->weasel<0.5.0,>=0.1.0->spacy<4->fastai) (1.17.2)\n",
      "\n",
      "\u001b[1m[\u001b[0m\u001b[34;49mnotice\u001b[0m\u001b[1;39;49m]\u001b[0m\u001b[39;49m A new release of pip is available: \u001b[0m\u001b[31;49m25.0.1\u001b[0m\u001b[39;49m -> \u001b[0m\u001b[32;49m25.1.1\u001b[0m\n",
      "\u001b[1m[\u001b[0m\u001b[34;49mnotice\u001b[0m\u001b[1;39;49m]\u001b[0m\u001b[39;49m To update, run: \u001b[0m\u001b[32;49mpip install --upgrade pip\u001b[0m\n"
     ]
    }
   ],
   "source": [
    "%%capture\n",
    "!pip install duckduckgo-search\n",
    "!pip install fastai"
   ]
  },
  {
   "cell_type": "code",
   "execution_count": 15,
   "id": "7bc48f25-cfb8-4067-a286-246d67b26abe",
   "metadata": {},
   "outputs": [],
   "source": [
    "%%capture\n",
    "import certifi\n",
    "import urllib.request\n",
    "import ssl\n",
    "from duckduckgo_search import DDGS\n",
    "from fastai.vision.all import *\n",
    "from fastai.vision.widgets import *\n",
    "\n",
    "DATA_DIR = Path(\"data\")\n",
    "MODEL_PATH = Path(\"exercise_classifier.pkl\")\n",
    "\n",
    "def download_image_with_headers(url: str, dest: Path):\n",
    "    headers = {\n",
    "        \"User-Agent\": \"Mozilla/5.0\"\n",
    "    }\n",
    "    req = urllib.request.Request(url, headers=headers)\n",
    "    ctx = ssl.create_default_context(cafile=certifi.where())\n",
    "\n",
    "    with urllib.request.urlopen(req, context=ctx) as response:\n",
    "        dest.write_bytes(response.read())\n",
    "\n",
    "def search_images_ddg(keywords, max_images = 30):\n",
    "    return L(DDGS().images(keywords, max_results=max_images)).itemgot(\"image\")\n",
    "\n",
    "def download(label: str, n: int = 30):\n",
    "    dest = DATA_DIR/label\n",
    "    dest.mkdir(parents=True, exist_ok=True)\n",
    "    urls = search_images_ddg(f\"{label} photo\", max_images = n)\n",
    "    for i, url in enumerate(urls):\n",
    "        try:\n",
    "            img_path = dest/f\"{label}_{i}.jpg\"\n",
    "            download_image_with_headers(url, img_path)\n",
    "        except Exception as e:\n",
    "            print(f\"Failed: {url} - {e}\")\n",
    "    print(f\"Downloaded {len(dest.ls())} images to {dest}\")"
   ]
  },
  {
   "cell_type": "code",
   "execution_count": 22,
   "id": "c98bcd28-90f4-4c73-a607-7aa2203f5287",
   "metadata": {},
   "outputs": [
    {
     "data": {
      "text/plain": [
       "(#1) [Path('export.pkl')]"
      ]
     },
     "execution_count": 22,
     "metadata": {},
     "output_type": "execute_result"
    }
   ],
   "source": [
    "%%capture\n",
    "path = Path()\n",
    "path.ls(file_exts='.pkl')"
   ]
  },
  {
   "cell_type": "code",
   "execution_count": 23,
   "id": "050db5bf-2f7e-4ea7-8e7d-4dcc8d00d2bd",
   "metadata": {},
   "outputs": [
    {
     "name": "stderr",
     "output_type": "stream",
     "text": [
      "/Users/vadstart/Documents/Projects/ML/FastAI/02-fastai-jupyter/.venv/lib/python3.12/site-packages/fastai/learner.py:455: UserWarning: load_learner` uses Python's insecure pickle module, which can execute malicious arbitrary code when loading. Only load files you trust.\n",
      "If you only need to load model weights and optimizer state, use the safe `Learner.load` instead.\n",
      "  warn(\"load_learner` uses Python's insecure pickle module, which can execute malicious arbitrary code when loading. Only load files you trust.\\nIf you only need to load model weights and optimizer state, use the safe `Learner.load` instead.\")\n"
     ]
    }
   ],
   "source": [
    "%%capture\n",
    "learn_inf = load_learner(path/'export.pkl')"
   ]
  },
  {
   "cell_type": "code",
   "execution_count": 63,
   "id": "c3402b94-6dd9-4794-a327-6af38e98dcf2",
   "metadata": {},
   "outputs": [
    {
     "data": {
      "application/vnd.jupyter.widget-view+json": {
       "model_id": "ae7775dee0d742e594311052b406d3da",
       "version_major": 2,
       "version_minor": 0
      },
      "text/plain": [
       "VBox(children=(FileUpload(value=(), accept='image/*', description='Upload'), Button(description='Classify', st…"
      ]
     },
     "metadata": {},
     "output_type": "display_data"
    }
   ],
   "source": [
    "import io\n",
    "from ipywidgets import FileUpload, Button, Output, Label, VBox, HBox\n",
    "from IPython.display import display\n",
    "\n",
    "# Upload widget\n",
    "btn_upload = FileUpload(accept='image/*', multiple=False)\n",
    "out_pl = Output()\n",
    "lbl_pred = Label(value='Prediction:')\n",
    "\n",
    "# Button click handler\n",
    "def on_click_classify(btn):\n",
    "    if btn_upload.value:\n",
    "        print(\"Classify button clicked!\")\n",
    "        uploaded_file = btn_upload.value[0]\n",
    "\n",
    "        img_bytes = io.BytesIO(bytes(uploaded_file['content']))\n",
    "        img = PILImage.create(img_bytes)\n",
    "\n",
    "        out_pl.clear_output()\n",
    "        with out_pl:\n",
    "            display(img.to_thumb(128,128))\n",
    "\n",
    "        # Replace with real model prediction logic\n",
    "        pred, pred_idx, probs = learn_inf.predict(img)\n",
    "        lbl_pred.value = f'Prediction: {pred}; Probability: {probs[pred_idx]:.04f}'\n",
    "    else:\n",
    "        print(\"No file uploaded.\")\n",
    "\n",
    "# Classify button\n",
    "btn_run = Button(description='Classify')\n",
    "btn_run.on_click(on_click_classify)\n",
    "\n",
    "# Show all widgets\n",
    "display(VBox([btn_upload, btn_run, out_pl, lbl_pred]))"
   ]
  },
  {
   "cell_type": "code",
   "execution_count": null,
   "id": "7d73b3ac-d4b8-4ed1-b3ea-a9443739731d",
   "metadata": {},
   "outputs": [],
   "source": []
  }
 ],
 "metadata": {
  "kernelspec": {
   "display_name": "Python 3 (ipykernel)",
   "language": "python",
   "name": "python3"
  },
  "language_info": {
   "codemirror_mode": {
    "name": "ipython",
    "version": 3
   },
   "file_extension": ".py",
   "mimetype": "text/x-python",
   "name": "python",
   "nbconvert_exporter": "python",
   "pygments_lexer": "ipython3",
   "version": "3.12.4"
  }
 },
 "nbformat": 4,
 "nbformat_minor": 5
}
