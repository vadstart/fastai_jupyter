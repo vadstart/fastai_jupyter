{
 "cells": [
  {
   "cell_type": "code",
   "execution_count": 1,
   "id": "fc187ee6-1a0b-4130-a0b2-b1a1717d81ab",
   "metadata": {},
   "outputs": [
    {
     "name": "stdout",
     "output_type": "stream",
     "text": [
      "  % Total    % Received % Xferd  Average Speed   Time    Time     Time  Current\n",
      "                                 Dload  Upload   Total   Spent    Left  Speed\n",
      "100  3758  100  3758    0     0  21398      0 --:--:-- --:--:-- --:--:-- 21474\n"
     ]
    }
   ],
   "source": [
    "!curl -O https://raw.githubusercontent.com/fastai/fastbook/master/utils.py"
   ]
  },
  {
   "cell_type": "code",
   "execution_count": 2,
   "id": "7a780fee-2a31-46bf-aee5-a8d271d9d4dc",
   "metadata": {},
   "outputs": [],
   "source": [
    "from fastai.vision.all import *"
   ]
  },
  {
   "cell_type": "code",
   "execution_count": 3,
   "id": "ec69625b-e0ec-4c84-9e6e-e9fcc721ed9b",
   "metadata": {
    "scrolled": true
   },
   "outputs": [
    {
     "name": "stdout",
     "output_type": "stream",
     "text": [
      "Requirement already satisfied: nbdev in ./.venv/lib/python3.12/site-packages (2.4.2)\n",
      "Requirement already satisfied: graphviz in ./.venv/lib/python3.12/site-packages (0.21)\n",
      "Collecting azure\n",
      "  Using cached azure-5.0.0.zip (4.6 kB)\n",
      "  Preparing metadata (setup.py) ... \u001b[?25lerror\n",
      "  \u001b[1;31merror\u001b[0m: \u001b[1msubprocess-exited-with-error\u001b[0m\n",
      "  \n",
      "  \u001b[31m×\u001b[0m \u001b[32mpython setup.py egg_info\u001b[0m did not run successfully.\n",
      "  \u001b[31m│\u001b[0m exit code: \u001b[1;36m1\u001b[0m\n",
      "  \u001b[31m╰─>\u001b[0m \u001b[31m[25 lines of output]\u001b[0m\n",
      "  \u001b[31m   \u001b[0m Traceback (most recent call last):\n",
      "  \u001b[31m   \u001b[0m   File \"<string>\", line 2, in <module>\n",
      "  \u001b[31m   \u001b[0m   File \"<pip-setuptools-caller>\", line 35, in <module>\n",
      "  \u001b[31m   \u001b[0m   File \"/private/var/folders/8z/s153sms91d73_wc38b7_yl4r0000gn/T/pip-install-kkl1t0_0/azure_1ad481d7931e457aa3ae59a35ff19a73/setup.py\", line 60, in <module>\n",
      "  \u001b[31m   \u001b[0m     raise RuntimeError(message)\n",
      "  \u001b[31m   \u001b[0m RuntimeError:\n",
      "  \u001b[31m   \u001b[0m \n",
      "  \u001b[31m   \u001b[0m Starting with v5.0.0, the 'azure' meta-package is deprecated and cannot be installed anymore.\n",
      "  \u001b[31m   \u001b[0m Please install the service specific packages prefixed by `azure` needed for your application.\n",
      "  \u001b[31m   \u001b[0m \n",
      "  \u001b[31m   \u001b[0m The complete list of available packages can be found at:\n",
      "  \u001b[31m   \u001b[0m https://aka.ms/azsdk/python/all\n",
      "  \u001b[31m   \u001b[0m \n",
      "  \u001b[31m   \u001b[0m Here's a non-exhaustive list of common packages:\n",
      "  \u001b[31m   \u001b[0m \n",
      "  \u001b[31m   \u001b[0m -  azure-mgmt-compute (https://pypi.python.org/pypi/azure-mgmt-compute) : Management of Virtual Machines, etc.\n",
      "  \u001b[31m   \u001b[0m -  azure-mgmt-storage (https://pypi.python.org/pypi/azure-mgmt-storage) : Management of storage accounts.\n",
      "  \u001b[31m   \u001b[0m -  azure-mgmt-resource (https://pypi.python.org/pypi/azure-mgmt-resource) : Generic package about Azure Resource Management (ARM)\n",
      "  \u001b[31m   \u001b[0m -  azure-keyvault-secrets (https://pypi.python.org/pypi/azure-keyvault-secrets) : Access to secrets in Key Vault\n",
      "  \u001b[31m   \u001b[0m -  azure-storage-blob (https://pypi.python.org/pypi/azure-storage-blob) : Access to blobs in storage accounts\n",
      "  \u001b[31m   \u001b[0m \n",
      "  \u001b[31m   \u001b[0m A more comprehensive discussion of the rationale for this decision can be found in the following issue:\n",
      "  \u001b[31m   \u001b[0m https://github.com/Azure/azure-sdk-for-python/issues/10646\n",
      "  \u001b[31m   \u001b[0m \n",
      "  \u001b[31m   \u001b[0m \n",
      "  \u001b[31m   \u001b[0m \u001b[31m[end of output]\u001b[0m\n",
      "  \n",
      "  \u001b[1;35mnote\u001b[0m: This error originates from a subprocess, and is likely not a problem with pip.\n",
      "\u001b[1;31merror\u001b[0m: \u001b[1mmetadata-generation-failed\u001b[0m\n",
      "\n",
      "\u001b[31m×\u001b[0m Encountered error while generating package metadata.\n",
      "\u001b[31m╰─>\u001b[0m See above for output.\n",
      "\n",
      "\u001b[1;35mnote\u001b[0m: This is an issue with the package mentioned above, not pip.\n",
      "\u001b[1;36mhint\u001b[0m: See above for details.\n",
      "\u001b[?25h"
     ]
    }
   ],
   "source": [
    "!pip install nbdev graphviz azure"
   ]
  },
  {
   "cell_type": "code",
   "execution_count": 162,
   "id": "3f965f68-8652-4783-876a-5a8293470e5d",
   "metadata": {},
   "outputs": [],
   "source": [
    "import matplotlib.pyplot as plt\n",
    "\n",
    "def plot_function(f, x_label='x', y_label='f(x)', label=None, title=None, min=-2, max=2):\n",
    "    x = torch.linspace(min,max, steps=100)\n",
    "    y = f(x)\n",
    "    plt.plot(x, y, label=label)\n",
    "    plt.xlabel(x_label)\n",
    "    plt.ylabel(y_label)\n",
    "    if label: plt.legend()\n",
    "    if title: plt.title(title)\n",
    "    plt.grid(True)\n",
    "    #plt.show()"
   ]
  },
  {
   "cell_type": "code",
   "execution_count": 5,
   "id": "3a7f062d-9a68-43d4-afbe-3ab627b125e3",
   "metadata": {},
   "outputs": [],
   "source": [
    "matplotlib.rc('image', cmap='Greys')"
   ]
  },
  {
   "cell_type": "code",
   "execution_count": 6,
   "id": "5ff0be03-3a41-4f57-95b2-eb8b33b9b86b",
   "metadata": {},
   "outputs": [],
   "source": [
    "path = untar_data(URLs.MNIST_SAMPLE)\n",
    "Path.BASE_PATH = path"
   ]
  },
  {
   "cell_type": "code",
   "execution_count": 7,
   "id": "3132ea77-cf4c-4241-b247-9d3ab44bd68e",
   "metadata": {},
   "outputs": [
    {
     "data": {
      "text/plain": [
       "(#6131) [Path('train/3/10.png'),Path('train/3/10000.png'),Path('train/3/10011.png'),Path('train/3/10031.png'),Path('train/3/10034.png'),Path('train/3/10042.png'),Path('train/3/10052.png'),Path('train/3/1007.png'),Path('train/3/10074.png'),Path('train/3/10091.png'),Path('train/3/10093.png'),Path('train/3/10097.png'),Path('train/3/10099.png'),Path('train/3/10116.png'),Path('train/3/10125.png'),Path('train/3/10137.png'),Path('train/3/10141.png'),Path('train/3/10144.png'),Path('train/3/10155.png'),Path('train/3/10161.png')...]"
      ]
     },
     "execution_count": 7,
     "metadata": {},
     "output_type": "execute_result"
    }
   ],
   "source": [
    "threes = (path/'train'/'3').ls().sorted()\n",
    "sevens = (path/'train'/'7').ls().sorted()\n",
    "threes"
   ]
  },
  {
   "cell_type": "code",
   "execution_count": 8,
   "id": "30c6ede3-0023-4f4d-8a84-c4d1b3ce40b6",
   "metadata": {},
   "outputs": [
    {
     "data": {
      "image/jpeg": "[encoded data removed]",
      "image/png": "[encoded data removed]",
      "text/plain": [
       "<PIL.PngImagePlugin.PngImageFile image mode=L size=28x28>"
      ]
     },
     "execution_count": 8,
     "metadata": {},
     "output_type": "execute_result"
    }
   ],
   "source": [
    "im3_path = threes[3]\n",
    "im3 = Image.open(im3_path)\n",
    "im3"
   ]
  },
  {
   "cell_type": "code",
   "execution_count": 9,
   "id": "e4e5b318-15d2-4ff0-91f5-d00f07a41172",
   "metadata": {},
   "outputs": [
    {
     "data": {
      "text/plain": [
       "array([[  0,   0,   0,   0,   0,   0],\n",
       "       [  0,   0,   0,   0,   0,   0],\n",
       "       [  0,   0,   0,   0,   0, 178],\n",
       "       [  0,   0,   0,   0,   0, 186],\n",
       "       [  0,   0,   0,   0,   0, 186],\n",
       "       [  0,   0,   0,   0,   0,  39]], dtype=uint8)"
      ]
     },
     "execution_count": 9,
     "metadata": {},
     "output_type": "execute_result"
    }
   ],
   "source": [
    "array(im3)[4:10, 4:10]"
   ]
  },
  {
   "cell_type": "code",
   "execution_count": 10,
   "id": "49d15d2b-e199-4cb8-8beb-e17f2d3664bb",
   "metadata": {},
   "outputs": [
    {
     "data": {
      "text/plain": [
       "tensor([[  0,   0,   0,   0,   0,   0],\n",
       "        [  0,   0,   0,   0, 104, 253],\n",
       "        [  0,   0,   0, 178, 248, 252],\n",
       "        [  0,   0,   0, 186, 252, 252],\n",
       "        [  0,   0,   0, 186, 252, 243],\n",
       "        [  0,   0,   0,  39,  53,  47]], dtype=torch.uint8)"
      ]
     },
     "execution_count": 10,
     "metadata": {},
     "output_type": "execute_result"
    }
   ],
   "source": [
    "tensor(im3)[4:10, 6:12]"
   ]
  },
  {
   "cell_type": "code",
   "execution_count": 11,
   "id": "0796fc37-4c46-447c-96ff-c0dbb55b6cc1",
   "metadata": {},
   "outputs": [
    {
     "data": {
      "text/html": [
       "<style type=\"text/css\">\n",
       "#T_e25c2_row0_col0, #T_e25c2_row0_col1, #T_e25c2_row0_col2, #T_e25c2_row0_col3, #T_e25c2_row0_col4, #T_e25c2_row0_col5, #T_e25c2_row0_col6, #T_e25c2_row0_col7, #T_e25c2_row0_col8, #T_e25c2_row0_col9, #T_e25c2_row0_col10, #T_e25c2_row0_col11, #T_e25c2_row0_col12, #T_e25c2_row0_col13, #T_e25c2_row0_col14, #T_e25c2_row0_col15, #T_e25c2_row0_col16, #T_e25c2_row0_col17, #T_e25c2_row1_col0, #T_e25c2_row1_col1, #T_e25c2_row1_col2, #T_e25c2_row1_col3, #T_e25c2_row1_col4, #T_e25c2_row1_col5, #T_e25c2_row1_col16, #T_e25c2_row1_col17, #T_e25c2_row2_col0, #T_e25c2_row2_col1, #T_e25c2_row2_col2, #T_e25c2_row2_col3, #T_e25c2_row2_col4, #T_e25c2_row2_col17, #T_e25c2_row3_col0, #T_e25c2_row3_col1, #T_e25c2_row3_col2, #T_e25c2_row3_col3, #T_e25c2_row3_col4, #T_e25c2_row3_col17, #T_e25c2_row4_col0, #T_e25c2_row4_col1, #T_e25c2_row4_col2, #T_e25c2_row4_col3, #T_e25c2_row4_col4, #T_e25c2_row4_col17, #T_e25c2_row5_col0, #T_e25c2_row5_col1, #T_e25c2_row5_col2, #T_e25c2_row5_col3, #T_e25c2_row5_col4, #T_e25c2_row5_col8, #T_e25c2_row5_col9, #T_e25c2_row5_col10, #T_e25c2_row5_col17, #T_e25c2_row6_col0, #T_e25c2_row6_col1, #T_e25c2_row6_col2, #T_e25c2_row6_col3, #T_e25c2_row6_col4, #T_e25c2_row6_col5, #T_e25c2_row6_col6, #T_e25c2_row6_col7, #T_e25c2_row6_col8, #T_e25c2_row6_col9, #T_e25c2_row6_col17, #T_e25c2_row7_col0, #T_e25c2_row7_col1, #T_e25c2_row7_col2, #T_e25c2_row7_col3, #T_e25c2_row7_col4, #T_e25c2_row7_col5, #T_e25c2_row7_col6, #T_e25c2_row7_col7, #T_e25c2_row7_col16, #T_e25c2_row7_col17, #T_e25c2_row8_col0, #T_e25c2_row8_col1, #T_e25c2_row8_col2, #T_e25c2_row8_col3, #T_e25c2_row8_col4, #T_e25c2_row8_col5, #T_e25c2_row8_col17, #T_e25c2_row9_col0, #T_e25c2_row9_col1, #T_e25c2_row9_col2, #T_e25c2_row9_col3, #T_e25c2_row9_col4, #T_e25c2_row9_col17, #T_e25c2_row10_col0, #T_e25c2_row10_col1, #T_e25c2_row10_col2, #T_e25c2_row10_col3, #T_e25c2_row10_col4 {\n",
       "  font-size: 6pt;\n",
       "  background-color: #ffffff;\n",
       "  color: #000000;\n",
       "}\n",
       "#T_e25c2_row1_col6 {\n",
       "  font-size: 6pt;\n",
       "  background-color: #b2b2b2;\n",
       "  color: #000000;\n",
       "}\n",
       "#T_e25c2_row1_col7, #T_e25c2_row1_col8, #T_e25c2_row1_col9, #T_e25c2_row1_col10, #T_e25c2_row1_col11, #T_e25c2_row1_col12, #T_e25c2_row1_col13, #T_e25c2_row2_col14, #T_e25c2_row3_col5, #T_e25c2_row3_col6, #T_e25c2_row3_col14, #T_e25c2_row3_col15, #T_e25c2_row4_col5, #T_e25c2_row4_col6, #T_e25c2_row4_col14, #T_e25c2_row4_col15, #T_e25c2_row5_col14, #T_e25c2_row5_col15, #T_e25c2_row6_col14, #T_e25c2_row9_col14, #T_e25c2_row9_col15, #T_e25c2_row10_col5, #T_e25c2_row10_col6, #T_e25c2_row10_col15, #T_e25c2_row10_col16, #T_e25c2_row10_col17 {\n",
       "  font-size: 6pt;\n",
       "  background-color: #000000;\n",
       "  color: #f1f1f1;\n",
       "}\n",
       "#T_e25c2_row1_col14, #T_e25c2_row4_col13 {\n",
       "  font-size: 6pt;\n",
       "  background-color: #282828;\n",
       "  color: #f1f1f1;\n",
       "}\n",
       "#T_e25c2_row1_col15 {\n",
       "  font-size: 6pt;\n",
       "  background-color: #f0f0f0;\n",
       "  color: #000000;\n",
       "}\n",
       "#T_e25c2_row2_col5 {\n",
       "  font-size: 6pt;\n",
       "  background-color: #0d0d0d;\n",
       "  color: #f1f1f1;\n",
       "}\n",
       "#T_e25c2_row2_col6 {\n",
       "  font-size: 6pt;\n",
       "  background-color: #050505;\n",
       "  color: #f1f1f1;\n",
       "}\n",
       "#T_e25c2_row2_col7, #T_e25c2_row2_col8, #T_e25c2_row2_col9, #T_e25c2_row2_col11, #T_e25c2_row2_col12, #T_e25c2_row2_col13, #T_e25c2_row3_col7, #T_e25c2_row3_col8, #T_e25c2_row3_col9, #T_e25c2_row3_col11, #T_e25c2_row3_col12, #T_e25c2_row3_col13, #T_e25c2_row6_col12, #T_e25c2_row6_col13, #T_e25c2_row7_col11, #T_e25c2_row7_col12, #T_e25c2_row7_col13, #T_e25c2_row8_col9, #T_e25c2_row8_col11, #T_e25c2_row8_col12, #T_e25c2_row8_col13, #T_e25c2_row9_col7, #T_e25c2_row9_col8, #T_e25c2_row9_col9, #T_e25c2_row9_col11, #T_e25c2_row9_col12, #T_e25c2_row9_col13, #T_e25c2_row10_col7, #T_e25c2_row10_col8, #T_e25c2_row10_col9, #T_e25c2_row10_col11, #T_e25c2_row10_col12 {\n",
       "  font-size: 6pt;\n",
       "  background-color: #010101;\n",
       "  color: #f1f1f1;\n",
       "}\n",
       "#T_e25c2_row2_col10, #T_e25c2_row3_col10, #T_e25c2_row7_col10, #T_e25c2_row8_col10, #T_e25c2_row9_col10, #T_e25c2_row10_col10 {\n",
       "  font-size: 6pt;\n",
       "  background-color: #020202;\n",
       "  color: #f1f1f1;\n",
       "}\n",
       "#T_e25c2_row2_col15 {\n",
       "  font-size: 6pt;\n",
       "  background-color: #2c2c2c;\n",
       "  color: #f1f1f1;\n",
       "}\n",
       "#T_e25c2_row2_col16 {\n",
       "  font-size: 6pt;\n",
       "  background-color: #ececec;\n",
       "  color: #000000;\n",
       "}\n",
       "#T_e25c2_row3_col16, #T_e25c2_row4_col16, #T_e25c2_row5_col16 {\n",
       "  font-size: 6pt;\n",
       "  background-color: #c5c5c5;\n",
       "  color: #000000;\n",
       "}\n",
       "#T_e25c2_row4_col7 {\n",
       "  font-size: 6pt;\n",
       "  background-color: #0c0c0c;\n",
       "  color: #f1f1f1;\n",
       "}\n",
       "#T_e25c2_row4_col8, #T_e25c2_row4_col9 {\n",
       "  font-size: 6pt;\n",
       "  background-color: #646464;\n",
       "  color: #f1f1f1;\n",
       "}\n",
       "#T_e25c2_row4_col10, #T_e25c2_row4_col11, #T_e25c2_row4_col12 {\n",
       "  font-size: 6pt;\n",
       "  background-color: #ebebeb;\n",
       "  color: #000000;\n",
       "}\n",
       "#T_e25c2_row5_col5, #T_e25c2_row5_col6 {\n",
       "  font-size: 6pt;\n",
       "  background-color: #e1e1e1;\n",
       "  color: #000000;\n",
       "}\n",
       "#T_e25c2_row5_col7 {\n",
       "  font-size: 6pt;\n",
       "  background-color: #e5e5e5;\n",
       "  color: #000000;\n",
       "}\n",
       "#T_e25c2_row5_col11 {\n",
       "  font-size: 6pt;\n",
       "  background-color: #f1f1f1;\n",
       "  color: #000000;\n",
       "}\n",
       "#T_e25c2_row5_col12 {\n",
       "  font-size: 6pt;\n",
       "  background-color: #a2a2a2;\n",
       "  color: #f1f1f1;\n",
       "}\n",
       "#T_e25c2_row5_col13 {\n",
       "  font-size: 6pt;\n",
       "  background-color: #0a0a0a;\n",
       "  color: #f1f1f1;\n",
       "}\n",
       "#T_e25c2_row6_col10 {\n",
       "  font-size: 6pt;\n",
       "  background-color: #e0e0e0;\n",
       "  color: #000000;\n",
       "}\n",
       "#T_e25c2_row6_col11 {\n",
       "  font-size: 6pt;\n",
       "  background-color: #383838;\n",
       "  color: #f1f1f1;\n",
       "}\n",
       "#T_e25c2_row6_col15 {\n",
       "  font-size: 6pt;\n",
       "  background-color: #575757;\n",
       "  color: #f1f1f1;\n",
       "}\n",
       "#T_e25c2_row6_col16 {\n",
       "  font-size: 6pt;\n",
       "  background-color: #f4f4f4;\n",
       "  color: #000000;\n",
       "}\n",
       "#T_e25c2_row7_col8 {\n",
       "  font-size: 6pt;\n",
       "  background-color: #fefefe;\n",
       "  color: #000000;\n",
       "}\n",
       "#T_e25c2_row7_col9, #T_e25c2_row8_col7 {\n",
       "  font-size: 6pt;\n",
       "  background-color: #e9e9e9;\n",
       "  color: #000000;\n",
       "}\n",
       "#T_e25c2_row7_col14 {\n",
       "  font-size: 6pt;\n",
       "  background-color: #393939;\n",
       "  color: #f1f1f1;\n",
       "}\n",
       "#T_e25c2_row7_col15 {\n",
       "  font-size: 6pt;\n",
       "  background-color: #f5f5f5;\n",
       "  color: #000000;\n",
       "}\n",
       "#T_e25c2_row8_col6 {\n",
       "  font-size: 6pt;\n",
       "  background-color: #fdfdfd;\n",
       "  color: #000000;\n",
       "}\n",
       "#T_e25c2_row8_col8 {\n",
       "  font-size: 6pt;\n",
       "  background-color: #6c6c6c;\n",
       "  color: #f1f1f1;\n",
       "}\n",
       "#T_e25c2_row8_col14 {\n",
       "  font-size: 6pt;\n",
       "  background-color: #1d1d1d;\n",
       "  color: #f1f1f1;\n",
       "}\n",
       "#T_e25c2_row8_col15 {\n",
       "  font-size: 6pt;\n",
       "  background-color: #909090;\n",
       "  color: #f1f1f1;\n",
       "}\n",
       "#T_e25c2_row8_col16 {\n",
       "  font-size: 6pt;\n",
       "  background-color: #fbfbfb;\n",
       "  color: #000000;\n",
       "}\n",
       "#T_e25c2_row9_col5 {\n",
       "  font-size: 6pt;\n",
       "  background-color: #7d7d7d;\n",
       "  color: #f1f1f1;\n",
       "}\n",
       "#T_e25c2_row9_col6 {\n",
       "  font-size: 6pt;\n",
       "  background-color: #6d6d6d;\n",
       "  color: #f1f1f1;\n",
       "}\n",
       "#T_e25c2_row9_col16 {\n",
       "  font-size: 6pt;\n",
       "  background-color: #676767;\n",
       "  color: #f1f1f1;\n",
       "}\n",
       "#T_e25c2_row10_col13 {\n",
       "  font-size: 6pt;\n",
       "  background-color: #888888;\n",
       "  color: #f1f1f1;\n",
       "}\n",
       "#T_e25c2_row10_col14 {\n",
       "  font-size: 6pt;\n",
       "  background-color: #212121;\n",
       "  color: #f1f1f1;\n",
       "}\n",
       "</style>\n",
       "<table id=\"T_e25c2\">\n",
       "  <thead>\n",
       "    <tr>\n",
       "      <th class=\"blank level0\" >&nbsp;</th>\n",
       "      <th id=\"T_e25c2_level0_col0\" class=\"col_heading level0 col0\" >0</th>\n",
       "      <th id=\"T_e25c2_level0_col1\" class=\"col_heading level0 col1\" >1</th>\n",
       "      <th id=\"T_e25c2_level0_col2\" class=\"col_heading level0 col2\" >2</th>\n",
       "      <th id=\"T_e25c2_level0_col3\" class=\"col_heading level0 col3\" >3</th>\n",
       "      <th id=\"T_e25c2_level0_col4\" class=\"col_heading level0 col4\" >4</th>\n",
       "      <th id=\"T_e25c2_level0_col5\" class=\"col_heading level0 col5\" >5</th>\n",
       "      <th id=\"T_e25c2_level0_col6\" class=\"col_heading level0 col6\" >6</th>\n",
       "      <th id=\"T_e25c2_level0_col7\" class=\"col_heading level0 col7\" >7</th>\n",
       "      <th id=\"T_e25c2_level0_col8\" class=\"col_heading level0 col8\" >8</th>\n",
       "      <th id=\"T_e25c2_level0_col9\" class=\"col_heading level0 col9\" >9</th>\n",
       "      <th id=\"T_e25c2_level0_col10\" class=\"col_heading level0 col10\" >10</th>\n",
       "      <th id=\"T_e25c2_level0_col11\" class=\"col_heading level0 col11\" >11</th>\n",
       "      <th id=\"T_e25c2_level0_col12\" class=\"col_heading level0 col12\" >12</th>\n",
       "      <th id=\"T_e25c2_level0_col13\" class=\"col_heading level0 col13\" >13</th>\n",
       "      <th id=\"T_e25c2_level0_col14\" class=\"col_heading level0 col14\" >14</th>\n",
       "      <th id=\"T_e25c2_level0_col15\" class=\"col_heading level0 col15\" >15</th>\n",
       "      <th id=\"T_e25c2_level0_col16\" class=\"col_heading level0 col16\" >16</th>\n",
       "      <th id=\"T_e25c2_level0_col17\" class=\"col_heading level0 col17\" >17</th>\n",
       "    </tr>\n",
       "  </thead>\n",
       "  <tbody>\n",
       "    <tr>\n",
       "      <th id=\"T_e25c2_level0_row0\" class=\"row_heading level0 row0\" >0</th>\n",
       "      <td id=\"T_e25c2_row0_col0\" class=\"data row0 col0\" >0</td>\n",
       "      <td id=\"T_e25c2_row0_col1\" class=\"data row0 col1\" >0</td>\n",
       "      <td id=\"T_e25c2_row0_col2\" class=\"data row0 col2\" >0</td>\n",
       "      <td id=\"T_e25c2_row0_col3\" class=\"data row0 col3\" >0</td>\n",
       "      <td id=\"T_e25c2_row0_col4\" class=\"data row0 col4\" >0</td>\n",
       "      <td id=\"T_e25c2_row0_col5\" class=\"data row0 col5\" >0</td>\n",
       "      <td id=\"T_e25c2_row0_col6\" class=\"data row0 col6\" >0</td>\n",
       "      <td id=\"T_e25c2_row0_col7\" class=\"data row0 col7\" >0</td>\n",
       "      <td id=\"T_e25c2_row0_col8\" class=\"data row0 col8\" >0</td>\n",
       "      <td id=\"T_e25c2_row0_col9\" class=\"data row0 col9\" >0</td>\n",
       "      <td id=\"T_e25c2_row0_col10\" class=\"data row0 col10\" >0</td>\n",
       "      <td id=\"T_e25c2_row0_col11\" class=\"data row0 col11\" >0</td>\n",
       "      <td id=\"T_e25c2_row0_col12\" class=\"data row0 col12\" >0</td>\n",
       "      <td id=\"T_e25c2_row0_col13\" class=\"data row0 col13\" >0</td>\n",
       "      <td id=\"T_e25c2_row0_col14\" class=\"data row0 col14\" >0</td>\n",
       "      <td id=\"T_e25c2_row0_col15\" class=\"data row0 col15\" >0</td>\n",
       "      <td id=\"T_e25c2_row0_col16\" class=\"data row0 col16\" >0</td>\n",
       "      <td id=\"T_e25c2_row0_col17\" class=\"data row0 col17\" >0</td>\n",
       "    </tr>\n",
       "    <tr>\n",
       "      <th id=\"T_e25c2_level0_row1\" class=\"row_heading level0 row1\" >1</th>\n",
       "      <td id=\"T_e25c2_row1_col0\" class=\"data row1 col0\" >0</td>\n",
       "      <td id=\"T_e25c2_row1_col1\" class=\"data row1 col1\" >0</td>\n",
       "      <td id=\"T_e25c2_row1_col2\" class=\"data row1 col2\" >0</td>\n",
       "      <td id=\"T_e25c2_row1_col3\" class=\"data row1 col3\" >0</td>\n",
       "      <td id=\"T_e25c2_row1_col4\" class=\"data row1 col4\" >0</td>\n",
       "      <td id=\"T_e25c2_row1_col5\" class=\"data row1 col5\" >0</td>\n",
       "      <td id=\"T_e25c2_row1_col6\" class=\"data row1 col6\" >104</td>\n",
       "      <td id=\"T_e25c2_row1_col7\" class=\"data row1 col7\" >253</td>\n",
       "      <td id=\"T_e25c2_row1_col8\" class=\"data row1 col8\" >253</td>\n",
       "      <td id=\"T_e25c2_row1_col9\" class=\"data row1 col9\" >253</td>\n",
       "      <td id=\"T_e25c2_row1_col10\" class=\"data row1 col10\" >255</td>\n",
       "      <td id=\"T_e25c2_row1_col11\" class=\"data row1 col11\" >253</td>\n",
       "      <td id=\"T_e25c2_row1_col12\" class=\"data row1 col12\" >253</td>\n",
       "      <td id=\"T_e25c2_row1_col13\" class=\"data row1 col13\" >253</td>\n",
       "      <td id=\"T_e25c2_row1_col14\" class=\"data row1 col14\" >218</td>\n",
       "      <td id=\"T_e25c2_row1_col15\" class=\"data row1 col15\" >32</td>\n",
       "      <td id=\"T_e25c2_row1_col16\" class=\"data row1 col16\" >0</td>\n",
       "      <td id=\"T_e25c2_row1_col17\" class=\"data row1 col17\" >0</td>\n",
       "    </tr>\n",
       "    <tr>\n",
       "      <th id=\"T_e25c2_level0_row2\" class=\"row_heading level0 row2\" >2</th>\n",
       "      <td id=\"T_e25c2_row2_col0\" class=\"data row2 col0\" >0</td>\n",
       "      <td id=\"T_e25c2_row2_col1\" class=\"data row2 col1\" >0</td>\n",
       "      <td id=\"T_e25c2_row2_col2\" class=\"data row2 col2\" >0</td>\n",
       "      <td id=\"T_e25c2_row2_col3\" class=\"data row2 col3\" >0</td>\n",
       "      <td id=\"T_e25c2_row2_col4\" class=\"data row2 col4\" >0</td>\n",
       "      <td id=\"T_e25c2_row2_col5\" class=\"data row2 col5\" >178</td>\n",
       "      <td id=\"T_e25c2_row2_col6\" class=\"data row2 col6\" >248</td>\n",
       "      <td id=\"T_e25c2_row2_col7\" class=\"data row2 col7\" >252</td>\n",
       "      <td id=\"T_e25c2_row2_col8\" class=\"data row2 col8\" >252</td>\n",
       "      <td id=\"T_e25c2_row2_col9\" class=\"data row2 col9\" >252</td>\n",
       "      <td id=\"T_e25c2_row2_col10\" class=\"data row2 col10\" >253</td>\n",
       "      <td id=\"T_e25c2_row2_col11\" class=\"data row2 col11\" >252</td>\n",
       "      <td id=\"T_e25c2_row2_col12\" class=\"data row2 col12\" >252</td>\n",
       "      <td id=\"T_e25c2_row2_col13\" class=\"data row2 col13\" >252</td>\n",
       "      <td id=\"T_e25c2_row2_col14\" class=\"data row2 col14\" >252</td>\n",
       "      <td id=\"T_e25c2_row2_col15\" class=\"data row2 col15\" >215</td>\n",
       "      <td id=\"T_e25c2_row2_col16\" class=\"data row2 col16\" >34</td>\n",
       "      <td id=\"T_e25c2_row2_col17\" class=\"data row2 col17\" >0</td>\n",
       "    </tr>\n",
       "    <tr>\n",
       "      <th id=\"T_e25c2_level0_row3\" class=\"row_heading level0 row3\" >3</th>\n",
       "      <td id=\"T_e25c2_row3_col0\" class=\"data row3 col0\" >0</td>\n",
       "      <td id=\"T_e25c2_row3_col1\" class=\"data row3 col1\" >0</td>\n",
       "      <td id=\"T_e25c2_row3_col2\" class=\"data row3 col2\" >0</td>\n",
       "      <td id=\"T_e25c2_row3_col3\" class=\"data row3 col3\" >0</td>\n",
       "      <td id=\"T_e25c2_row3_col4\" class=\"data row3 col4\" >0</td>\n",
       "      <td id=\"T_e25c2_row3_col5\" class=\"data row3 col5\" >186</td>\n",
       "      <td id=\"T_e25c2_row3_col6\" class=\"data row3 col6\" >252</td>\n",
       "      <td id=\"T_e25c2_row3_col7\" class=\"data row3 col7\" >252</td>\n",
       "      <td id=\"T_e25c2_row3_col8\" class=\"data row3 col8\" >252</td>\n",
       "      <td id=\"T_e25c2_row3_col9\" class=\"data row3 col9\" >252</td>\n",
       "      <td id=\"T_e25c2_row3_col10\" class=\"data row3 col10\" >253</td>\n",
       "      <td id=\"T_e25c2_row3_col11\" class=\"data row3 col11\" >252</td>\n",
       "      <td id=\"T_e25c2_row3_col12\" class=\"data row3 col12\" >252</td>\n",
       "      <td id=\"T_e25c2_row3_col13\" class=\"data row3 col13\" >252</td>\n",
       "      <td id=\"T_e25c2_row3_col14\" class=\"data row3 col14\" >252</td>\n",
       "      <td id=\"T_e25c2_row3_col15\" class=\"data row3 col15\" >252</td>\n",
       "      <td id=\"T_e25c2_row3_col16\" class=\"data row3 col16\" >79</td>\n",
       "      <td id=\"T_e25c2_row3_col17\" class=\"data row3 col17\" >0</td>\n",
       "    </tr>\n",
       "    <tr>\n",
       "      <th id=\"T_e25c2_level0_row4\" class=\"row_heading level0 row4\" >4</th>\n",
       "      <td id=\"T_e25c2_row4_col0\" class=\"data row4 col0\" >0</td>\n",
       "      <td id=\"T_e25c2_row4_col1\" class=\"data row4 col1\" >0</td>\n",
       "      <td id=\"T_e25c2_row4_col2\" class=\"data row4 col2\" >0</td>\n",
       "      <td id=\"T_e25c2_row4_col3\" class=\"data row4 col3\" >0</td>\n",
       "      <td id=\"T_e25c2_row4_col4\" class=\"data row4 col4\" >0</td>\n",
       "      <td id=\"T_e25c2_row4_col5\" class=\"data row4 col5\" >186</td>\n",
       "      <td id=\"T_e25c2_row4_col6\" class=\"data row4 col6\" >252</td>\n",
       "      <td id=\"T_e25c2_row4_col7\" class=\"data row4 col7\" >243</td>\n",
       "      <td id=\"T_e25c2_row4_col8\" class=\"data row4 col8\" >172</td>\n",
       "      <td id=\"T_e25c2_row4_col9\" class=\"data row4 col9\" >172</td>\n",
       "      <td id=\"T_e25c2_row4_col10\" class=\"data row4 col10\" >39</td>\n",
       "      <td id=\"T_e25c2_row4_col11\" class=\"data row4 col11\" >39</td>\n",
       "      <td id=\"T_e25c2_row4_col12\" class=\"data row4 col12\" >39</td>\n",
       "      <td id=\"T_e25c2_row4_col13\" class=\"data row4 col13\" >219</td>\n",
       "      <td id=\"T_e25c2_row4_col14\" class=\"data row4 col14\" >252</td>\n",
       "      <td id=\"T_e25c2_row4_col15\" class=\"data row4 col15\" >252</td>\n",
       "      <td id=\"T_e25c2_row4_col16\" class=\"data row4 col16\" >79</td>\n",
       "      <td id=\"T_e25c2_row4_col17\" class=\"data row4 col17\" >0</td>\n",
       "    </tr>\n",
       "    <tr>\n",
       "      <th id=\"T_e25c2_level0_row5\" class=\"row_heading level0 row5\" >5</th>\n",
       "      <td id=\"T_e25c2_row5_col0\" class=\"data row5 col0\" >0</td>\n",
       "      <td id=\"T_e25c2_row5_col1\" class=\"data row5 col1\" >0</td>\n",
       "      <td id=\"T_e25c2_row5_col2\" class=\"data row5 col2\" >0</td>\n",
       "      <td id=\"T_e25c2_row5_col3\" class=\"data row5 col3\" >0</td>\n",
       "      <td id=\"T_e25c2_row5_col4\" class=\"data row5 col4\" >0</td>\n",
       "      <td id=\"T_e25c2_row5_col5\" class=\"data row5 col5\" >39</td>\n",
       "      <td id=\"T_e25c2_row5_col6\" class=\"data row5 col6\" >53</td>\n",
       "      <td id=\"T_e25c2_row5_col7\" class=\"data row5 col7\" >47</td>\n",
       "      <td id=\"T_e25c2_row5_col8\" class=\"data row5 col8\" >0</td>\n",
       "      <td id=\"T_e25c2_row5_col9\" class=\"data row5 col9\" >0</td>\n",
       "      <td id=\"T_e25c2_row5_col10\" class=\"data row5 col10\" >0</td>\n",
       "      <td id=\"T_e25c2_row5_col11\" class=\"data row5 col11\" >29</td>\n",
       "      <td id=\"T_e25c2_row5_col12\" class=\"data row5 col12\" >117</td>\n",
       "      <td id=\"T_e25c2_row5_col13\" class=\"data row5 col13\" >244</td>\n",
       "      <td id=\"T_e25c2_row5_col14\" class=\"data row5 col14\" >252</td>\n",
       "      <td id=\"T_e25c2_row5_col15\" class=\"data row5 col15\" >252</td>\n",
       "      <td id=\"T_e25c2_row5_col16\" class=\"data row5 col16\" >79</td>\n",
       "      <td id=\"T_e25c2_row5_col17\" class=\"data row5 col17\" >0</td>\n",
       "    </tr>\n",
       "    <tr>\n",
       "      <th id=\"T_e25c2_level0_row6\" class=\"row_heading level0 row6\" >6</th>\n",
       "      <td id=\"T_e25c2_row6_col0\" class=\"data row6 col0\" >0</td>\n",
       "      <td id=\"T_e25c2_row6_col1\" class=\"data row6 col1\" >0</td>\n",
       "      <td id=\"T_e25c2_row6_col2\" class=\"data row6 col2\" >0</td>\n",
       "      <td id=\"T_e25c2_row6_col3\" class=\"data row6 col3\" >0</td>\n",
       "      <td id=\"T_e25c2_row6_col4\" class=\"data row6 col4\" >0</td>\n",
       "      <td id=\"T_e25c2_row6_col5\" class=\"data row6 col5\" >0</td>\n",
       "      <td id=\"T_e25c2_row6_col6\" class=\"data row6 col6\" >0</td>\n",
       "      <td id=\"T_e25c2_row6_col7\" class=\"data row6 col7\" >0</td>\n",
       "      <td id=\"T_e25c2_row6_col8\" class=\"data row6 col8\" >0</td>\n",
       "      <td id=\"T_e25c2_row6_col9\" class=\"data row6 col9\" >0</td>\n",
       "      <td id=\"T_e25c2_row6_col10\" class=\"data row6 col10\" >54</td>\n",
       "      <td id=\"T_e25c2_row6_col11\" class=\"data row6 col11\" >208</td>\n",
       "      <td id=\"T_e25c2_row6_col12\" class=\"data row6 col12\" >252</td>\n",
       "      <td id=\"T_e25c2_row6_col13\" class=\"data row6 col13\" >252</td>\n",
       "      <td id=\"T_e25c2_row6_col14\" class=\"data row6 col14\" >252</td>\n",
       "      <td id=\"T_e25c2_row6_col15\" class=\"data row6 col15\" >184</td>\n",
       "      <td id=\"T_e25c2_row6_col16\" class=\"data row6 col16\" >21</td>\n",
       "      <td id=\"T_e25c2_row6_col17\" class=\"data row6 col17\" >0</td>\n",
       "    </tr>\n",
       "    <tr>\n",
       "      <th id=\"T_e25c2_level0_row7\" class=\"row_heading level0 row7\" >7</th>\n",
       "      <td id=\"T_e25c2_row7_col0\" class=\"data row7 col0\" >0</td>\n",
       "      <td id=\"T_e25c2_row7_col1\" class=\"data row7 col1\" >0</td>\n",
       "      <td id=\"T_e25c2_row7_col2\" class=\"data row7 col2\" >0</td>\n",
       "      <td id=\"T_e25c2_row7_col3\" class=\"data row7 col3\" >0</td>\n",
       "      <td id=\"T_e25c2_row7_col4\" class=\"data row7 col4\" >0</td>\n",
       "      <td id=\"T_e25c2_row7_col5\" class=\"data row7 col5\" >0</td>\n",
       "      <td id=\"T_e25c2_row7_col6\" class=\"data row7 col6\" >0</td>\n",
       "      <td id=\"T_e25c2_row7_col7\" class=\"data row7 col7\" >0</td>\n",
       "      <td id=\"T_e25c2_row7_col8\" class=\"data row7 col8\" >3</td>\n",
       "      <td id=\"T_e25c2_row7_col9\" class=\"data row7 col9\" >41</td>\n",
       "      <td id=\"T_e25c2_row7_col10\" class=\"data row7 col10\" >253</td>\n",
       "      <td id=\"T_e25c2_row7_col11\" class=\"data row7 col11\" >252</td>\n",
       "      <td id=\"T_e25c2_row7_col12\" class=\"data row7 col12\" >252</td>\n",
       "      <td id=\"T_e25c2_row7_col13\" class=\"data row7 col13\" >252</td>\n",
       "      <td id=\"T_e25c2_row7_col14\" class=\"data row7 col14\" >206</td>\n",
       "      <td id=\"T_e25c2_row7_col15\" class=\"data row7 col15\" >21</td>\n",
       "      <td id=\"T_e25c2_row7_col16\" class=\"data row7 col16\" >0</td>\n",
       "      <td id=\"T_e25c2_row7_col17\" class=\"data row7 col17\" >0</td>\n",
       "    </tr>\n",
       "    <tr>\n",
       "      <th id=\"T_e25c2_level0_row8\" class=\"row_heading level0 row8\" >8</th>\n",
       "      <td id=\"T_e25c2_row8_col0\" class=\"data row8 col0\" >0</td>\n",
       "      <td id=\"T_e25c2_row8_col1\" class=\"data row8 col1\" >0</td>\n",
       "      <td id=\"T_e25c2_row8_col2\" class=\"data row8 col2\" >0</td>\n",
       "      <td id=\"T_e25c2_row8_col3\" class=\"data row8 col3\" >0</td>\n",
       "      <td id=\"T_e25c2_row8_col4\" class=\"data row8 col4\" >0</td>\n",
       "      <td id=\"T_e25c2_row8_col5\" class=\"data row8 col5\" >0</td>\n",
       "      <td id=\"T_e25c2_row8_col6\" class=\"data row8 col6\" >5</td>\n",
       "      <td id=\"T_e25c2_row8_col7\" class=\"data row8 col7\" >41</td>\n",
       "      <td id=\"T_e25c2_row8_col8\" class=\"data row8 col8\" >165</td>\n",
       "      <td id=\"T_e25c2_row8_col9\" class=\"data row8 col9\" >252</td>\n",
       "      <td id=\"T_e25c2_row8_col10\" class=\"data row8 col10\" >253</td>\n",
       "      <td id=\"T_e25c2_row8_col11\" class=\"data row8 col11\" >252</td>\n",
       "      <td id=\"T_e25c2_row8_col12\" class=\"data row8 col12\" >252</td>\n",
       "      <td id=\"T_e25c2_row8_col13\" class=\"data row8 col13\" >252</td>\n",
       "      <td id=\"T_e25c2_row8_col14\" class=\"data row8 col14\" >227</td>\n",
       "      <td id=\"T_e25c2_row8_col15\" class=\"data row8 col15\" >131</td>\n",
       "      <td id=\"T_e25c2_row8_col16\" class=\"data row8 col16\" >9</td>\n",
       "      <td id=\"T_e25c2_row8_col17\" class=\"data row8 col17\" >0</td>\n",
       "    </tr>\n",
       "    <tr>\n",
       "      <th id=\"T_e25c2_level0_row9\" class=\"row_heading level0 row9\" >9</th>\n",
       "      <td id=\"T_e25c2_row9_col0\" class=\"data row9 col0\" >0</td>\n",
       "      <td id=\"T_e25c2_row9_col1\" class=\"data row9 col1\" >0</td>\n",
       "      <td id=\"T_e25c2_row9_col2\" class=\"data row9 col2\" >0</td>\n",
       "      <td id=\"T_e25c2_row9_col3\" class=\"data row9 col3\" >0</td>\n",
       "      <td id=\"T_e25c2_row9_col4\" class=\"data row9 col4\" >0</td>\n",
       "      <td id=\"T_e25c2_row9_col5\" class=\"data row9 col5\" >109</td>\n",
       "      <td id=\"T_e25c2_row9_col6\" class=\"data row9 col6\" >163</td>\n",
       "      <td id=\"T_e25c2_row9_col7\" class=\"data row9 col7\" >252</td>\n",
       "      <td id=\"T_e25c2_row9_col8\" class=\"data row9 col8\" >252</td>\n",
       "      <td id=\"T_e25c2_row9_col9\" class=\"data row9 col9\" >252</td>\n",
       "      <td id=\"T_e25c2_row9_col10\" class=\"data row9 col10\" >253</td>\n",
       "      <td id=\"T_e25c2_row9_col11\" class=\"data row9 col11\" >252</td>\n",
       "      <td id=\"T_e25c2_row9_col12\" class=\"data row9 col12\" >252</td>\n",
       "      <td id=\"T_e25c2_row9_col13\" class=\"data row9 col13\" >252</td>\n",
       "      <td id=\"T_e25c2_row9_col14\" class=\"data row9 col14\" >252</td>\n",
       "      <td id=\"T_e25c2_row9_col15\" class=\"data row9 col15\" >252</td>\n",
       "      <td id=\"T_e25c2_row9_col16\" class=\"data row9 col16\" >156</td>\n",
       "      <td id=\"T_e25c2_row9_col17\" class=\"data row9 col17\" >0</td>\n",
       "    </tr>\n",
       "    <tr>\n",
       "      <th id=\"T_e25c2_level0_row10\" class=\"row_heading level0 row10\" >10</th>\n",
       "      <td id=\"T_e25c2_row10_col0\" class=\"data row10 col0\" >0</td>\n",
       "      <td id=\"T_e25c2_row10_col1\" class=\"data row10 col1\" >0</td>\n",
       "      <td id=\"T_e25c2_row10_col2\" class=\"data row10 col2\" >0</td>\n",
       "      <td id=\"T_e25c2_row10_col3\" class=\"data row10 col3\" >0</td>\n",
       "      <td id=\"T_e25c2_row10_col4\" class=\"data row10 col4\" >0</td>\n",
       "      <td id=\"T_e25c2_row10_col5\" class=\"data row10 col5\" >186</td>\n",
       "      <td id=\"T_e25c2_row10_col6\" class=\"data row10 col6\" >252</td>\n",
       "      <td id=\"T_e25c2_row10_col7\" class=\"data row10 col7\" >252</td>\n",
       "      <td id=\"T_e25c2_row10_col8\" class=\"data row10 col8\" >252</td>\n",
       "      <td id=\"T_e25c2_row10_col9\" class=\"data row10 col9\" >252</td>\n",
       "      <td id=\"T_e25c2_row10_col10\" class=\"data row10 col10\" >253</td>\n",
       "      <td id=\"T_e25c2_row10_col11\" class=\"data row10 col11\" >252</td>\n",
       "      <td id=\"T_e25c2_row10_col12\" class=\"data row10 col12\" >252</td>\n",
       "      <td id=\"T_e25c2_row10_col13\" class=\"data row10 col13\" >139</td>\n",
       "      <td id=\"T_e25c2_row10_col14\" class=\"data row10 col14\" >224</td>\n",
       "      <td id=\"T_e25c2_row10_col15\" class=\"data row10 col15\" >252</td>\n",
       "      <td id=\"T_e25c2_row10_col16\" class=\"data row10 col16\" >233</td>\n",
       "      <td id=\"T_e25c2_row10_col17\" class=\"data row10 col17\" >49</td>\n",
       "    </tr>\n",
       "  </tbody>\n",
       "</table>\n"
      ],
      "text/plain": [
       "<pandas.io.formats.style.Styler at 0x1110bc2c0>"
      ]
     },
     "execution_count": 11,
     "metadata": {},
     "output_type": "execute_result"
    }
   ],
   "source": [
    "im3_t = tensor(im3)\n",
    "df = pd.DataFrame(im3_t[4:15,4:22])\n",
    "df.style.set_properties(**{'font-size':'6pt'}).background_gradient('Greys')"
   ]
  },
  {
   "cell_type": "code",
   "execution_count": 12,
   "id": "e7f49816-0400-4446-8cb8-76d3c11042b0",
   "metadata": {},
   "outputs": [
    {
     "data": {
      "text/plain": [
       "(6131, 6265)"
      ]
     },
     "execution_count": 12,
     "metadata": {},
     "output_type": "execute_result"
    }
   ],
   "source": [
    "seven_tensors = [tensor(Image.open(o)) for o in sevens]\n",
    "three_tensors = [tensor(Image.open(o)) for o in threes]\n",
    "len(three_tensors),len(seven_tensors)"
   ]
  },
  {
   "cell_type": "code",
   "execution_count": 13,
   "id": "e819e0c3-ad9e-423c-9b7b-20cf28441a49",
   "metadata": {},
   "outputs": [
    {
     "data": {
      "text/plain": [
       "<Axes: >"
      ]
     },
     "execution_count": 13,
     "metadata": {},
     "output_type": "execute_result"
    },
    {
     "data": {
      "image/png": "[encoded data removed]",
      "text/plain": [
       "<Figure size 100x100 with 1 Axes>"
      ]
     },
     "metadata": {},
     "output_type": "display_data"
    }
   ],
   "source": [
    "show_image(seven_tensors[2])"
   ]
  },
  {
   "cell_type": "code",
   "execution_count": 14,
   "id": "193a3548-06cb-4efb-8080-ff72e54dcdf3",
   "metadata": {},
   "outputs": [
    {
     "data": {
      "text/plain": [
       "torch.Size([6131, 28, 28])"
      ]
     },
     "execution_count": 14,
     "metadata": {},
     "output_type": "execute_result"
    }
   ],
   "source": [
    "stacked_sevens = torch.stack(seven_tensors).float()/255\n",
    "stacked_threes = torch.stack(three_tensors).float()/255\n",
    "stacked_threes.shape"
   ]
  },
  {
   "cell_type": "code",
   "execution_count": 15,
   "id": "2427fff7-29e9-497a-8756-2004bfe13778",
   "metadata": {},
   "outputs": [
    {
     "data": {
      "text/plain": [
       "3"
      ]
     },
     "execution_count": 15,
     "metadata": {},
     "output_type": "execute_result"
    }
   ],
   "source": [
    "len(stacked_threes.shape)"
   ]
  },
  {
   "cell_type": "code",
   "execution_count": 16,
   "id": "8c36d33c-8e76-422d-b1e0-5417968e7f23",
   "metadata": {},
   "outputs": [
    {
     "data": {
      "text/plain": [
       "3"
      ]
     },
     "execution_count": 16,
     "metadata": {},
     "output_type": "execute_result"
    }
   ],
   "source": [
    "stacked_threes.ndim"
   ]
  },
  {
   "cell_type": "code",
   "execution_count": 17,
   "id": "651600ba-588e-41fb-ac38-33a29cbb3428",
   "metadata": {},
   "outputs": [
    {
     "data": {
      "image/png": "[encoded data removed]",
      "text/plain": [
       "<Figure size 100x100 with 1 Axes>"
      ]
     },
     "metadata": {},
     "output_type": "display_data"
    }
   ],
   "source": [
    "mean7 = stacked_sevens.mean(0)\n",
    "show_image(mean7);"
   ]
  },
  {
   "cell_type": "code",
   "execution_count": 18,
   "id": "2c510653-0a0c-4647-804f-b41910380803",
   "metadata": {},
   "outputs": [
    {
     "data": {
      "image/png": "[encoded data removed]",
      "text/plain": [
       "<Figure size 100x100 with 1 Axes>"
      ]
     },
     "metadata": {},
     "output_type": "display_data"
    }
   ],
   "source": [
    "mean3 = stacked_threes.mean(0)\n",
    "show_image(mean3);"
   ]
  },
  {
   "cell_type": "code",
   "execution_count": 19,
   "id": "c53049e5-38e5-444c-b26a-80aea64179d1",
   "metadata": {},
   "outputs": [
    {
     "data": {
      "text/plain": [
       "<Axes: >"
      ]
     },
     "execution_count": 19,
     "metadata": {},
     "output_type": "execute_result"
    },
    {
     "data": {
      "image/png": "[encoded data removed]",
      "text/plain": [
       "<Figure size 100x100 with 1 Axes>"
      ]
     },
     "metadata": {},
     "output_type": "display_data"
    }
   ],
   "source": [
    "test_image = three_tensors[10].float() / 255\n",
    "show_image(test_image)"
   ]
  },
  {
   "cell_type": "code",
   "execution_count": 20,
   "id": "5705c6da-f005-4061-ab88-c50e612e44ed",
   "metadata": {},
   "outputs": [
    {
     "data": {
      "text/plain": [
       "<Axes: >"
      ]
     },
     "execution_count": 20,
     "metadata": {},
     "output_type": "execute_result"
    },
    {
     "data": {
      "image/png": "[encoded data removed]",
      "text/plain": [
       "<Figure size 100x100 with 1 Axes>"
      ]
     },
     "metadata": {},
     "output_type": "display_data"
    }
   ],
   "source": [
    "test_image2 = seven_tensors[25].float() / 255\n",
    "show_image(test_image2)"
   ]
  },
  {
   "cell_type": "code",
   "execution_count": 21,
   "id": "a1f79a20-89bb-48d2-b2fb-fd7bd96a1e3b",
   "metadata": {},
   "outputs": [
    {
     "name": "stdout",
     "output_type": "stream",
     "text": [
      "Predicted digit: 3 | 0.11002060770988464 | 0.15563826262950897\n",
      "Predicted digit: 7 | 0.17717096209526062 | 0.15721683204174042\n",
      "True\n"
     ]
    },
    {
     "data": {
      "image/png": "[encoded data removed]",
      "text/plain": [
       "<Figure size 100x100 with 1 Axes>"
      ]
     },
     "metadata": {},
     "output_type": "display_data"
    },
    {
     "data": {
      "image/png": "[encoded data removed]",
      "text/plain": [
       "<Figure size 100x100 with 1 Axes>"
      ]
     },
     "metadata": {},
     "output_type": "display_data"
    },
    {
     "data": {
      "image/png": "[encoded data removed]",
      "text/plain": [
       "<Figure size 100x100 with 1 Axes>"
      ]
     },
     "metadata": {},
     "output_type": "display_data"
    },
    {
     "data": {
      "image/png": "[encoded data removed]",
      "text/plain": [
       "<Figure size 100x100 with 1 Axes>"
      ]
     },
     "metadata": {},
     "output_type": "display_data"
    }
   ],
   "source": [
    "## Define a pixel-wise similarity function\n",
    "def pixel_similarity(img1, img2):\n",
    "    # Score per pixel: 1 - abs difference\n",
    "    pixel_scores = (img1 - img2).abs()\n",
    "    return pixel_scores \n",
    "\n",
    "# Compute similarity to each class\n",
    "score3 = pixel_similarity(test_image, mean3)\n",
    "score7 = pixel_similarity(test_image, mean7)\n",
    "show_image(score3)\n",
    "show_image(score7)\n",
    "\n",
    "# Prediction\n",
    "predicted_label = 3 if score3.mean() < score7.mean() else 7\n",
    "print(f\"Predicted digit: {predicted_label} | {score3.mean()} | {score7.mean()}\")\n",
    "\n",
    "# Compute similarity to each class\n",
    "score3 = pixel_similarity(test_image2, mean3)\n",
    "score7 = pixel_similarity(test_image2, mean7)\n",
    "show_image(score3)\n",
    "show_image(score7)\n",
    "\n",
    "# Prediction\n",
    "predicted_label2 = 3 if score3.mean() < score7.mean() else 7\n",
    "print(f\"Predicted digit: {predicted_label2} | {score3.mean()} | {score7.mean()}\") \n",
    "print(torch.backends.mps.is_available()) # Metal Performance Shaders"
   ]
  },
  {
   "cell_type": "code",
   "execution_count": 22,
   "id": "b3ed50d4-ae8d-46dd-9a16-12e858b672d9",
   "metadata": {
    "scrolled": true
   },
   "outputs": [
    {
     "name": "stdout",
     "output_type": "stream",
     "text": [
      "dist_3: 0.11002060770988464 | 0.20178648829460144\n",
      "dist_7: 0.15563826262950897 | 0.29894086718559265\n"
     ]
    }
   ],
   "source": [
    "dist_3_abs = (test_image - mean3).abs().mean()\n",
    "dist_3_sqr = ((test_image - mean3)**2).mean().sqrt()\n",
    "\n",
    "dist_7_abs = (test_image - mean7).abs().mean()\n",
    "dist_7_sqr = ((test_image - mean7)**2).mean().sqrt()\n",
    "\n",
    "print(f\"dist_3: {dist_3_abs} | {dist_3_sqr}\")\n",
    "print(f\"dist_7: {dist_7_abs} | {dist_7_sqr}\")"
   ]
  },
  {
   "cell_type": "code",
   "execution_count": 23,
   "id": "314b3f0f-7a4d-46b3-b7e4-2e884fbe1a80",
   "metadata": {},
   "outputs": [
    {
     "data": {
      "text/plain": [
       "(tensor(0.1100), tensor(0.2018))"
      ]
     },
     "execution_count": 23,
     "metadata": {},
     "output_type": "execute_result"
    }
   ],
   "source": [
    "F.l1_loss(test_image.float(), mean3), F.mse_loss(test_image, mean3).sqrt()"
   ]
  },
  {
   "cell_type": "code",
   "execution_count": 24,
   "id": "e70d316e-67c3-411e-a38f-d568e32a3faf",
   "metadata": {},
   "outputs": [
    {
     "data": {
      "text/plain": [
       "(tensor(0.1556), tensor(0.2989))"
      ]
     },
     "execution_count": 24,
     "metadata": {},
     "output_type": "execute_result"
    }
   ],
   "source": [
    "F.l1_loss(test_image.float(), mean7), F.mse_loss(test_image, mean7).sqrt()"
   ]
  },
  {
   "cell_type": "code",
   "execution_count": 25,
   "id": "5a297ebb-5d12-4b86-8192-9aeb854c77ea",
   "metadata": {},
   "outputs": [
    {
     "name": "stdout",
     "output_type": "stream",
     "text": [
      " tensor([4, 5, 6]) | tensor([3, 6])\n"
     ]
    }
   ],
   "source": [
    "muhTensor = tensor([1,2,3],\n",
    "                   [4,5,6])\n",
    "print(f\" {muhTensor[1]} | {muhTensor[:,2]}\")"
   ]
  },
  {
   "cell_type": "code",
   "execution_count": 26,
   "id": "0695fdc6-573b-4b05-825b-6c6ff414f62b",
   "metadata": {},
   "outputs": [
    {
     "name": "stdout",
     "output_type": "stream",
     "text": [
      "/Users/vadstart/.fastai/data/mnist_sample\n"
     ]
    }
   ],
   "source": [
    "print(Path.BASE_PATH)"
   ]
  },
  {
   "cell_type": "code",
   "execution_count": 27,
   "id": "a983f9e4-d20a-424a-9d39-a22783bbf801",
   "metadata": {},
   "outputs": [
    {
     "data": {
      "text/plain": [
       "(torch.Size([1010, 28, 28]), torch.Size([1028, 28, 28]))"
      ]
     },
     "execution_count": 27,
     "metadata": {},
     "output_type": "execute_result"
    }
   ],
   "source": [
    "valid_3_tens = torch.stack([tensor(Image.open(o)) \n",
    "                            for o in (path/'valid'/'3').ls()])\n",
    "valid_3_tens = valid_3_tens.float()/255\n",
    "valid_7_tens = torch.stack([tensor(Image.open(o)) \n",
    "                            for o in (path/'valid'/'7').ls()])\n",
    "valid_7_tens = valid_7_tens.float()/255\n",
    "valid_3_tens.shape,valid_7_tens.shape"
   ]
  },
  {
   "cell_type": "code",
   "execution_count": 28,
   "id": "1ade4df5-e4f2-422b-be87-ccf10e609125",
   "metadata": {},
   "outputs": [
    {
     "data": {
      "text/plain": [
       "(tensor([0.1634, 0.1145, 0.1363,  ..., 0.1105, 0.1111, 0.1640]),\n",
       " torch.Size([1010]),\n",
       " torch.Size([1010, 28, 28]),\n",
       " torch.Size([1010, 28, 28]),\n",
       " torch.Size([28, 28]))"
      ]
     },
     "execution_count": 28,
     "metadata": {},
     "output_type": "execute_result"
    }
   ],
   "source": [
    "def mnist_distance(a,b): return (a-b).abs().mean((-1, -2))\n",
    "valid_3_dist = mnist_distance(valid_3_tens, mean3)\n",
    "valid_3_dist, valid_3_dist.shape, (valid_3_tens - mean3).shape, valid_3_tens.shape, mean3.shape, "
   ]
  },
  {
   "cell_type": "code",
   "execution_count": 29,
   "id": "799354b4-59ee-440a-82f7-a9fda37bbe94",
   "metadata": {},
   "outputs": [
    {
     "data": {
      "text/plain": [
       "(tensor(True), tensor(1.), tensor(0.9168))"
      ]
     },
     "execution_count": 29,
     "metadata": {},
     "output_type": "execute_result"
    }
   ],
   "source": [
    "def is_3(x):\n",
    "    return mnist_distance(x, mean3) < mnist_distance(x, mean7)\n",
    "is_3(test_image), is_3(test_image).float(), is_3(valid_3_tens).float().mean()"
   ]
  },
  {
   "cell_type": "code",
   "execution_count": 30,
   "id": "39aa44ed-ed5f-4882-bc99-02f55ab2065c",
   "metadata": {},
   "outputs": [
    {
     "data": {
      "text/plain": [
       "(tensor(0.9168), tensor(0.9854), tensor(0.9511))"
      ]
     },
     "execution_count": 30,
     "metadata": {},
     "output_type": "execute_result"
    }
   ],
   "source": [
    "accuracy_3s = is_3 (valid_3_tens).float().mean()\n",
    "accuracy_7s = (1 - is_3 (valid_7_tens).float()).mean()\n",
    "accuracy_3s, accuracy_7s, (accuracy_3s + accuracy_7s)/2"
   ]
  },
  {
   "cell_type": "code",
   "execution_count": 31,
   "id": "f204b346-72f6-4b76-9fae-449a9c637a49",
   "metadata": {},
   "outputs": [
    {
     "data": {
      "text/plain": [
       "tensor([[3.4000, 5.2000],\n",
       "        [1.5000, 1.5000]])"
      ]
     },
     "execution_count": 31,
     "metadata": {},
     "output_type": "execute_result"
    }
   ],
   "source": [
    "a = tensor([1.1,2.2], \n",
    "            [3.3,4.4])\n",
    "b = tensor([4.5,7.4], \n",
    "            [1.8,2.9])\n",
    "c = (a-b)\n",
    "c.abs()"
   ]
  },
  {
   "cell_type": "code",
   "execution_count": 32,
   "id": "7fdf657f-5899-4c6b-9061-b0256bb04ef7",
   "metadata": {},
   "outputs": [],
   "source": [
    "def pr_8(x, w):\n",
    "    return (x * w).sum()"
   ]
  },
  {
   "cell_type": "code",
   "execution_count": 33,
   "id": "547fa042-ed1f-45ad-9321-0a87c0a36b50",
   "metadata": {},
   "outputs": [
    {
     "data": {
      "text/plain": [
       "[<matplotlib.lines.Line2D at 0x1464659a0>]"
      ]
     },
     "execution_count": 33,
     "metadata": {},
     "output_type": "execute_result"
    },
    {
     "data": {
      "image/png": "[encoded data removed]",
      "text/plain": [
       "<Figure size 640x480 with 1 Axes>"
      ]
     },
     "metadata": {},
     "output_type": "display_data"
    }
   ],
   "source": [
    "def f(x): \n",
    "    return x**2\n",
    "plot_function(f, 'x', 'x**2')\n",
    "plt.scatter(-1.5, f(-1.5), color='purple');\n",
    "plt.scatter(-0.7, f(-0.7), color='lime');\n",
    "plt.scatter(0.0, f(0.0), color='green');\n",
    "\n",
    "plt.annotate(\n",
    "    '', xy=(-0.7, f(-1.5)), xytext=(-1.5, f(-1.5)),\n",
    "    arrowprops=dict(arrowstyle='->', color='red', lw=2)\n",
    ")\n",
    "plt.plot([-0.7, -0.7], [f(-0.7), f(-1.5)], linestyle=':', color='red') \n",
    "plt.annotate(\n",
    "    '', xy=(0.0, f(-0.7)), xytext=(-0.7, f(-0.7)),\n",
    "    arrowprops=dict(arrowstyle='->', color='red', lw=2)\n",
    ")\n",
    "plt.plot([0.0, 0.0], [f(-0.7), f(0.0)], linestyle=':', color='red') \n",
    "#plt.axvline(x=-1.5, linestyle=':', color='gray') \n"
   ]
  },
  {
   "cell_type": "code",
   "execution_count": 34,
   "id": "d0475573-a783-47cf-a4e1-22326afc8222",
   "metadata": {},
   "outputs": [
    {
     "data": {
      "text/plain": [
       "tensor(9., grad_fn=<PowBackward0>)"
      ]
     },
     "execution_count": 34,
     "metadata": {},
     "output_type": "execute_result"
    }
   ],
   "source": [
    "xt = tensor(3.).requires_grad_()\n",
    "yt = f(xt)\n",
    "yt"
   ]
  },
  {
   "cell_type": "code",
   "execution_count": 35,
   "id": "250753b8-74a6-4888-a036-31a059dc8115",
   "metadata": {},
   "outputs": [],
   "source": [
    "yt.backward()"
   ]
  },
  {
   "cell_type": "code",
   "execution_count": 36,
   "id": "72d465b2-b880-4ba4-945c-dfbad7dcd44b",
   "metadata": {},
   "outputs": [
    {
     "data": {
      "text/plain": [
       "tensor(6.)"
      ]
     },
     "execution_count": 36,
     "metadata": {},
     "output_type": "execute_result"
    }
   ],
   "source": [
    "xt.grad"
   ]
  },
  {
   "cell_type": "code",
   "execution_count": 37,
   "id": "e24d8c03-d9b8-4f68-ae8f-2af404be8506",
   "metadata": {},
   "outputs": [
    {
     "data": {
      "text/plain": [
       "tensor([ 3.,  4., 10.], requires_grad=True)"
      ]
     },
     "execution_count": 37,
     "metadata": {},
     "output_type": "execute_result"
    }
   ],
   "source": [
    "xt = tensor ([3., 4., 10.]).requires_grad_()\n",
    "xt"
   ]
  },
  {
   "cell_type": "code",
   "execution_count": 38,
   "id": "6f11dcd3-4bdb-4e9f-a632-d94b760b6c1b",
   "metadata": {},
   "outputs": [
    {
     "data": {
      "text/plain": [
       "tensor(125., grad_fn=<SumBackward0>)"
      ]
     },
     "execution_count": 38,
     "metadata": {},
     "output_type": "execute_result"
    }
   ],
   "source": [
    "def f(x): \n",
    "    return (x**2).sum()\n",
    "\n",
    "yt = f(xt)\n",
    "yt"
   ]
  },
  {
   "cell_type": "code",
   "execution_count": 39,
   "id": "24b75113-dfa5-4d96-9e18-e3aa80da9479",
   "metadata": {},
   "outputs": [
    {
     "data": {
      "text/plain": [
       "tensor([ 6.,  8., 20.])"
      ]
     },
     "execution_count": 39,
     "metadata": {},
     "output_type": "execute_result"
    }
   ],
   "source": [
    "yt.backward()\n",
    "xt.grad"
   ]
  },
  {
   "cell_type": "code",
   "execution_count": 40,
   "id": "b3876542-63d2-4de4-bfd7-bdc1c022a40d",
   "metadata": {},
   "outputs": [
    {
     "data": {
      "text/plain": [
       "tensor([ 0.,  1.,  2.,  3.,  4.,  5.,  6.,  7.,  8.,  9., 10., 11., 12., 13.,\n",
       "        14., 15., 16., 17., 18., 19.])"
      ]
     },
     "execution_count": 40,
     "metadata": {},
     "output_type": "execute_result"
    }
   ],
   "source": [
    "time = torch.arange(0,20).float(); \n",
    "time"
   ]
  },
  {
   "cell_type": "code",
   "execution_count": 41,
   "id": "c75323b1-3ddd-472b-9498-668665fcce4f",
   "metadata": {},
   "outputs": [
    {
     "data": {
      "text/plain": [
       "<matplotlib.collections.PathCollection at 0x142ee8da0>"
      ]
     },
     "execution_count": 41,
     "metadata": {},
     "output_type": "execute_result"
    },
    {
     "data": {
      "image/png": "[encoded data removed]",
      "text/plain": [
       "<Figure size 640x480 with 1 Axes>"
      ]
     },
     "metadata": {},
     "output_type": "display_data"
    }
   ],
   "source": [
    "speed = torch.randn(20) * 3 + 0.75 * (time - 9.5) ** 2 + 1\n",
    "plt.scatter(time, speed)"
   ]
  },
  {
   "cell_type": "code",
   "execution_count": 42,
   "id": "bcc9a056-3967-483e-aca9-5c14840653e8",
   "metadata": {},
   "outputs": [],
   "source": [
    "# Separate params from t to form a quadratic function\n",
    "def f(t, params):\n",
    "    a, b, c = params\n",
    "    return a * (t ** 2) + (b * t) + c"
   ]
  },
  {
   "cell_type": "code",
   "execution_count": 43,
   "id": "4afae97c-3f2d-47b4-9a3c-2c474ae2e508",
   "metadata": {},
   "outputs": [],
   "source": [
    "# Loss function\n",
    "#    - mean squared error\n",
    "def mse(preds, targets):\n",
    "    return ((preds - targets) ** 2).mean()"
   ]
  },
  {
   "cell_type": "code",
   "execution_count": 44,
   "id": "8ce6dda2-c0f6-4e3f-87de-528f4ef4b476",
   "metadata": {},
   "outputs": [],
   "source": [
    "# STEP 1: Initialize the parameters\n",
    "params = torch.randn(3).requires_grad_()\n",
    "orig_params = params.clone()"
   ]
  },
  {
   "cell_type": "code",
   "execution_count": 45,
   "id": "74ca71e4-31c0-4e90-83fa-10228c19518f",
   "metadata": {},
   "outputs": [],
   "source": [
    "# STEP 2: Calculate the predictions\n",
    "preds = f(time, params)"
   ]
  },
  {
   "cell_type": "code",
   "execution_count": 46,
   "id": "d8604edd-7562-430c-8e37-0cddff88f6ad",
   "metadata": {},
   "outputs": [],
   "source": [
    "def show_preds(preds, ax = None):\n",
    "    if ax is None: ax = plt.subplots()[1]\n",
    "    ax.scatter (time, speed)\n",
    "    ax.scatter (time, to_np(preds), color = 'red')\n",
    "    ax.set_ylim(-300, 100)"
   ]
  },
  {
   "cell_type": "code",
   "execution_count": 47,
   "id": "d0cd9a6b-d682-4275-99a3-9d01a38d6e4d",
   "metadata": {},
   "outputs": [
    {
     "data": {
      "image/png": "[encoded data removed]",
      "text/plain": [
       "<Figure size 640x480 with 1 Axes>"
      ]
     },
     "metadata": {},
     "output_type": "display_data"
    }
   ],
   "source": [
    "show_preds(preds)"
   ]
  },
  {
   "cell_type": "code",
   "execution_count": 48,
   "id": "c7f99afb-5ee8-445e-badb-1fe9c07eb52e",
   "metadata": {},
   "outputs": [
    {
     "data": {
      "text/plain": [
       "tensor(4624.4009, grad_fn=<MeanBackward0>)"
      ]
     },
     "execution_count": 48,
     "metadata": {},
     "output_type": "execute_result"
    }
   ],
   "source": [
    "# STEP 3: Calculate the loss\n",
    "loss = mse(preds, speed)\n",
    "loss"
   ]
  },
  {
   "cell_type": "code",
   "execution_count": 49,
   "id": "6498195c-f770-4fa1-bab9-24b0da7c6f1f",
   "metadata": {},
   "outputs": [
    {
     "data": {
      "text/plain": [
       "tensor([-21252.6855,  -1378.4681,   -114.2912])"
      ]
     },
     "execution_count": 49,
     "metadata": {},
     "output_type": "execute_result"
    }
   ],
   "source": [
    "# STEP 4: Calculate the gradients\n",
    "loss.backward()\n",
    "params.grad"
   ]
  },
  {
   "cell_type": "code",
   "execution_count": 50,
   "id": "1a82b6e0-bc80-4629-8c09-54073c620eb0",
   "metadata": {},
   "outputs": [
    {
     "data": {
      "text/plain": [
       "tensor([-0.2125, -0.0138, -0.0011])"
      ]
     },
     "execution_count": 50,
     "metadata": {},
     "output_type": "execute_result"
    }
   ],
   "source": [
    "params.grad * 1e-5"
   ]
  },
  {
   "cell_type": "code",
   "execution_count": 51,
   "id": "782808c7-fc27-4cc3-b2e8-5a040bbdc55e",
   "metadata": {},
   "outputs": [
    {
     "data": {
      "text/plain": [
       "tensor([-0.1907, -0.6730, -0.6703], requires_grad=True)"
      ]
     },
     "execution_count": 51,
     "metadata": {},
     "output_type": "execute_result"
    }
   ],
   "source": [
    "params"
   ]
  },
  {
   "cell_type": "code",
   "execution_count": 52,
   "id": "e0a55b78-2524-441c-8a81-82607427b3f7",
   "metadata": {},
   "outputs": [],
   "source": [
    "# STEP 5: Step the weights\n",
    "lr = 1e-5\n",
    "params.data -= lr * params.grad.data\n",
    "params.grad = None"
   ]
  },
  {
   "cell_type": "code",
   "execution_count": 53,
   "id": "ea298c07-cd5a-477b-b7ec-1c9715390e20",
   "metadata": {},
   "outputs": [
    {
     "data": {
      "image/png": "[encoded data removed]",
      "text/plain": [
       "<Figure size 640x480 with 1 Axes>"
      ]
     },
     "metadata": {},
     "output_type": "display_data"
    }
   ],
   "source": [
    "preds = f(time, params)\n",
    "mse(preds, speed)\n",
    "show_preds(preds)"
   ]
  },
  {
   "cell_type": "code",
   "execution_count": 54,
   "id": "6f13cf2e-4f93-4d33-b7d2-de052cd735a2",
   "metadata": {},
   "outputs": [],
   "source": [
    "def apply_step(params, prn=True):\n",
    "    preds = f(time, params)\n",
    "    loss = mse(preds, speed)\n",
    "    loss.backward()\n",
    "    params.data -= lr * params.grad.data\n",
    "    params.grad = None\n",
    "    if prn: \n",
    "        print(loss.item())\n",
    "    return preds"
   ]
  },
  {
   "cell_type": "code",
   "execution_count": 55,
   "id": "134da71d-6dbf-4460-9d50-abff3047da8e",
   "metadata": {
    "scrolled": true
   },
   "outputs": [
    {
     "name": "stdout",
     "output_type": "stream",
     "text": [
      "1369.877197265625\n",
      "754.0166015625\n",
      "637.4716796875\n",
      "615.41259765625\n",
      "611.2330322265625\n",
      "610.4369506835938\n",
      "610.2810668945312\n",
      "610.2463989257812\n",
      "610.234375\n",
      "610.22705078125\n"
     ]
    }
   ],
   "source": [
    "for i in range(10): apply_step(params)"
   ]
  },
  {
   "cell_type": "code",
   "execution_count": 56,
   "id": "308d065f-cd94-47ad-9098-cefa78de5669",
   "metadata": {},
   "outputs": [
    {
     "data": {
      "image/png": "[encoded data removed]",
      "text/plain": [
       "<Figure size 1200x300 with 4 Axes>"
      ]
     },
     "metadata": {},
     "output_type": "display_data"
    }
   ],
   "source": [
    "params = orig_params.detach().requires_grad_()\n",
    "_,axs = plt.subplots(1,4,figsize=(12,3))\n",
    "for ax in axs: show_preds(apply_step(params, False), ax)\n",
    "plt.tight_layout()"
   ]
  },
  {
   "cell_type": "code",
   "execution_count": 57,
   "id": "6c995f79-8513-4195-af52-aea4ebc80b4c",
   "metadata": {},
   "outputs": [],
   "source": [
    "# Step 7: stop"
   ]
  },
  {
   "cell_type": "code",
   "execution_count": 327,
   "id": "378b41c0-68da-4ab5-8cd0-220defbeef2f",
   "metadata": {},
   "outputs": [],
   "source": [
    "# -------------------------\n",
    "# The MNIST Loss Function\n",
    "# -------------------------\n",
    "# Images with pixel ratings, flattened\n",
    "train_x = torch.cat([stacked_threes, stacked_sevens]).view(-1, 28*28)"
   ]
  },
  {
   "cell_type": "code",
   "execution_count": 328,
   "id": "c8e3fe8b-9ad8-466a-8e5f-ea8559375c20",
   "metadata": {},
   "outputs": [
    {
     "data": {
      "text/plain": [
       "(torch.Size([12396, 784]), torch.Size([12396, 1]))"
      ]
     },
     "execution_count": 328,
     "metadata": {},
     "output_type": "execute_result"
    }
   ],
   "source": [
    "# Images with labels (0 for 7s, 1 for 3s)\n",
    "train_y = tensor([1] * len(threes) + [0] * len(sevens)).unsqueeze(1)\n",
    "train_x.shape, train_y.shape"
   ]
  },
  {
   "cell_type": "code",
   "execution_count": 329,
   "id": "77cc34cb-46af-472c-bcd4-500379b1406b",
   "metadata": {},
   "outputs": [
    {
     "data": {
      "text/plain": [
       "(torch.Size([784]), tensor([1]))"
      ]
     },
     "execution_count": 329,
     "metadata": {},
     "output_type": "execute_result"
    }
   ],
   "source": [
    "dset = list(zip(train_x, train_y))\n",
    "x, y = dset[0]\n",
    "x.shape, y"
   ]
  },
  {
   "cell_type": "code",
   "execution_count": 330,
   "id": "d2860f75-3a69-4df6-9484-26fe81862c27",
   "metadata": {},
   "outputs": [],
   "source": [
    "valid_x = torch.cat([valid_3_tens, valid_7_tens]).view(-1, 28*28)\n",
    "valid_y = tensor([1]*len(valid_3_tens) + [0]*len(valid_7_tens)).unsqueeze(1)\n",
    "valid_dset = list(zip(valid_x,valid_y))"
   ]
  },
  {
   "cell_type": "code",
   "execution_count": 125,
   "id": "4167be99-95fd-445c-b1e0-53faf0ec0992",
   "metadata": {},
   "outputs": [],
   "source": [
    "def init_params(size, std = 1.0):\n",
    "    return (torch.randn(size) * std).requires_grad_()"
   ]
  },
  {
   "cell_type": "code",
   "execution_count": 127,
   "id": "47d0884f-0e6c-415e-99be-0c07dd8546a0",
   "metadata": {
    "scrolled": true
   },
   "outputs": [
    {
     "data": {
      "text/plain": [
       "tensor([-0.3978], grad_fn=<SelectBackward0>)"
      ]
     },
     "execution_count": 127,
     "metadata": {},
     "output_type": "execute_result"
    }
   ],
   "source": [
    "weights = init_params((28*28, 1))\n",
    "weights[0]"
   ]
  },
  {
   "cell_type": "code",
   "execution_count": 111,
   "id": "25f4c63a-9c07-475f-ba25-2cdb5cc40f31",
   "metadata": {},
   "outputs": [],
   "source": [
    "bias = init_params(1)"
   ]
  },
  {
   "cell_type": "code",
   "execution_count": 130,
   "id": "bc286e65-cd6c-4bef-ad5f-5023e1e2c92d",
   "metadata": {},
   "outputs": [
    {
     "data": {
      "text/plain": [
       "tensor([-5.0528], grad_fn=<AddBackward0>)"
      ]
     },
     "execution_count": 130,
     "metadata": {},
     "output_type": "execute_result"
    }
   ],
   "source": [
    "(train_x[0] * weights.T).sum() + bias"
   ]
  },
  {
   "cell_type": "code",
   "execution_count": 132,
   "id": "506c0a4b-6563-490c-b5c8-f4f4fe9b33e1",
   "metadata": {},
   "outputs": [
    {
     "data": {
      "text/plain": [
       "(torch.Size([12396, 1]),\n",
       " tensor([[-5.0528],\n",
       "         [-2.9452],\n",
       "         [-6.9087],\n",
       "         ...,\n",
       "         [-0.3077],\n",
       "         [-3.6177],\n",
       "         [-4.5733]], grad_fn=<AddBackward0>))"
      ]
     },
     "execution_count": 132,
     "metadata": {},
     "output_type": "execute_result"
    }
   ],
   "source": [
    "def linear1(xb):\n",
    "    return xb@weights + bias\n",
    "preds = linear1(train_x)\n",
    "preds.shape, preds"
   ]
  },
  {
   "cell_type": "code",
   "execution_count": 133,
   "id": "c1e7a9ee-26d3-45cd-98ca-c4bc33af4513",
   "metadata": {},
   "outputs": [
    {
     "data": {
      "text/plain": [
       "tensor([[False],\n",
       "        [False],\n",
       "        [False],\n",
       "        ...,\n",
       "        [ True],\n",
       "        [ True],\n",
       "        [ True]])"
      ]
     },
     "execution_count": 133,
     "metadata": {},
     "output_type": "execute_result"
    }
   ],
   "source": [
    "corrects = (preds > 0.0).float() == train_y\n",
    "corrects"
   ]
  },
  {
   "cell_type": "code",
   "execution_count": 135,
   "id": "c7a76136-d0d7-454a-bcb6-92dd16eaa888",
   "metadata": {},
   "outputs": [
    {
     "data": {
      "text/plain": [
       "0.5435624122619629"
      ]
     },
     "execution_count": 135,
     "metadata": {},
     "output_type": "execute_result"
    }
   ],
   "source": [
    "corrects.float().mean().item()"
   ]
  },
  {
   "cell_type": "code",
   "execution_count": 139,
   "id": "df98e9b2-192b-4d27-a4a0-56685b348e3e",
   "metadata": {},
   "outputs": [
    {
     "data": {
      "text/plain": [
       "0.5435624122619629"
      ]
     },
     "execution_count": 139,
     "metadata": {},
     "output_type": "execute_result"
    }
   ],
   "source": [
    "with torch.no_grad(): weights[0] *= 2.001\n",
    "preds = linear1(train_x)\n",
    "((preds > 0.0).float() == train_y).float().mean().item()"
   ]
  },
  {
   "cell_type": "code",
   "execution_count": 156,
   "id": "0366f8b8-941c-44c5-b8b7-fea8e50ce7ef",
   "metadata": {},
   "outputs": [],
   "source": [
    "if torch.backends.mps.is_available():\n",
    "    device = torch.device(\"mps\")\n",
    "else:\n",
    "    device = torch.device(\"cpu\")\n",
    "\n",
    "trgts = tensor([1, 0, 1])\n",
    "prds = tensor([0.45, 0.1, 0.21])\n",
    "\n",
    "trgts = trgts.to(device)\n",
    "prds  = prds.to(device)"
   ]
  },
  {
   "cell_type": "code",
   "execution_count": 340,
   "id": "4eee9eaf-59d1-4834-b633-5924561fd4a5",
   "metadata": {},
   "outputs": [],
   "source": [
    "def mnist_loss (predictions, targets):\n",
    "    predictions = predictions.sigmoid()\n",
    "    return torch.where (targets == 1, 1 - predictions, predictions).mean()"
   ]
  },
  {
   "cell_type": "code",
   "execution_count": 157,
   "id": "2b2d2427-4fcd-4136-9385-36ec62462171",
   "metadata": {},
   "outputs": [
    {
     "data": {
      "text/plain": [
       "tensor([0.5500, 0.1000, 0.7900], device='mps:0')"
      ]
     },
     "execution_count": 157,
     "metadata": {},
     "output_type": "execute_result"
    }
   ],
   "source": [
    "torch.where (trgts==1, 1-prds, prds)"
   ]
  },
  {
   "cell_type": "code",
   "execution_count": 158,
   "id": "9e016859-d45a-42cd-b84d-6be4d409bdd4",
   "metadata": {},
   "outputs": [
    {
     "data": {
      "text/plain": [
       "tensor(0.4800, device='mps:0')"
      ]
     },
     "execution_count": 158,
     "metadata": {},
     "output_type": "execute_result"
    }
   ],
   "source": [
    "mnist_loss( prds, trgts )"
   ]
  },
  {
   "cell_type": "code",
   "execution_count": 163,
   "id": "674cc8b5-aed6-4231-9339-23ec3fb17883",
   "metadata": {},
   "outputs": [
    {
     "data": {
      "image/png": "[encoded data removed]",
      "text/plain": [
       "<Figure size 640x480 with 1 Axes>"
      ]
     },
     "metadata": {},
     "output_type": "display_data"
    }
   ],
   "source": [
    "# def sigmoid(x): \n",
    "#     return 1/(1+torch.exp(-x))\n",
    "plot_function(torch.sigmoid, title='Sigmoid', min=-4, max=4)"
   ]
  },
  {
   "cell_type": "code",
   "execution_count": 164,
   "id": "6acea4d5-a16d-4500-b763-939d9023fa3d",
   "metadata": {},
   "outputs": [
    {
     "data": {
      "image/png": "[encoded data removed]",
      "text/plain": [
       "<Figure size 640x480 with 1 Axes>"
      ]
     },
     "metadata": {},
     "output_type": "display_data"
    }
   ],
   "source": [
    "plot_function(torch.relu, title='ReLU', min=-4, max=4)"
   ]
  },
  {
   "cell_type": "code",
   "execution_count": 171,
   "id": "9d039edb-0ecd-4238-a869-db04164e934c",
   "metadata": {},
   "outputs": [
    {
     "data": {
      "text/plain": [
       "[tensor([ 8,  5, 11,  4, 13]),\n",
       " tensor([ 3,  2,  0, 12,  6]),\n",
       " tensor([ 1,  7, 10, 14,  9])]"
      ]
     },
     "execution_count": 171,
     "metadata": {},
     "output_type": "execute_result"
    }
   ],
   "source": [
    "# OPTIMIZATION step\n",
    "#torch.utils.data.DataLoader\n",
    "coll = range(15)\n",
    "dl = DataLoader(coll, batch_size=5, shuffle = True)\n",
    "list(dl)"
   ]
  },
  {
   "cell_type": "code",
   "execution_count": 172,
   "id": "37c5281d-513d-43ee-839c-652e5ed2be7e",
   "metadata": {},
   "outputs": [
    {
     "data": {
      "text/plain": [
       "(#26) [(0, 'a'),(1, 'b'),(2, 'c'),(3, 'd'),(4, 'e'),(5, 'f'),(6, 'g'),(7, 'h'),(8, 'i'),(9, 'j'),(10, 'k'),(11, 'l'),(12, 'm'),(13, 'n'),(14, 'o'),(15, 'p'),(16, 'q'),(17, 'r'),(18, 's'),(19, 't')...]"
      ]
     },
     "execution_count": 172,
     "metadata": {},
     "output_type": "execute_result"
    }
   ],
   "source": [
    "ds = L(enumerate(string.ascii_lowercase))\n",
    "ds"
   ]
  },
  {
   "cell_type": "code",
   "execution_count": 173,
   "id": "b18ee9f7-8a20-4ca4-8873-4fc46b0eb32f",
   "metadata": {},
   "outputs": [
    {
     "data": {
      "text/plain": [
       "[(tensor([20,  5,  7,  9,  0, 22]), ('u', 'f', 'h', 'j', 'a', 'w')),\n",
       " (tensor([10, 13, 19,  2,  1, 11]), ('k', 'n', 't', 'c', 'b', 'l')),\n",
       " (tensor([ 8, 24, 14, 21,  4,  3]), ('i', 'y', 'o', 'v', 'e', 'd')),\n",
       " (tensor([15, 12, 17, 16, 23,  6]), ('p', 'm', 'r', 'q', 'x', 'g')),\n",
       " (tensor([25, 18]), ('z', 's'))]"
      ]
     },
     "execution_count": 173,
     "metadata": {},
     "output_type": "execute_result"
    }
   ],
   "source": [
    "dl = DataLoader(ds, batch_size = 6, shuffle = True)\n",
    "list(dl)"
   ]
  },
  {
   "cell_type": "code",
   "execution_count": null,
   "id": "57e7dafe-73ad-4c2f-a186-5d175dc55187",
   "metadata": {},
   "outputs": [],
   "source": [
    "for x, y in dl:\n",
    "    pred = model(x)\n",
    "    loss = loss_func(pred, y)\n",
    "    loss.backward()\n",
    "    parameters -= parameters.grad * lr"
   ]
  },
  {
   "cell_type": "code",
   "execution_count": 174,
   "id": "dad57174-4687-42a0-9903-11076506d397",
   "metadata": {},
   "outputs": [],
   "source": [
    "# Re-initialize the parameters\n",
    "weights = init_params((28*28, 1))\n",
    "bias = init_params(1)"
   ]
  },
  {
   "cell_type": "code",
   "execution_count": 331,
   "id": "5ddac955-0d92-413d-8593-c8c814f1c30f",
   "metadata": {},
   "outputs": [
    {
     "data": {
      "text/plain": [
       "(torch.Size([256, 784]), torch.Size([256, 1]))"
      ]
     },
     "execution_count": 331,
     "metadata": {},
     "output_type": "execute_result"
    }
   ],
   "source": [
    "dl = DataLoader(dset, batch_size = 256)\n",
    "xb, yb = first(dl)\n",
    "xb.shape, yb.shape"
   ]
  },
  {
   "cell_type": "code",
   "execution_count": 332,
   "id": "d82f8066-279c-46f5-880f-200efafb56d9",
   "metadata": {},
   "outputs": [],
   "source": [
    "valid_dl = DataLoader(valid_dset, batch_size = 256)"
   ]
  },
  {
   "cell_type": "code",
   "execution_count": 192,
   "id": "fce1ab87-e256-4565-a93d-5000fc0c0d1b",
   "metadata": {},
   "outputs": [
    {
     "data": {
      "text/plain": [
       "torch.Size([4, 784])"
      ]
     },
     "execution_count": 192,
     "metadata": {},
     "output_type": "execute_result"
    }
   ],
   "source": [
    "# Grab a test mini-batch\n",
    "batch = train_x[:4]\n",
    "batch.shape"
   ]
  },
  {
   "cell_type": "code",
   "execution_count": 193,
   "id": "a092c7fe-8b67-420a-9188-bfbbf96a323c",
   "metadata": {},
   "outputs": [
    {
     "data": {
      "text/plain": [
       "tensor([[-0.1943],\n",
       "        [ 7.7124],\n",
       "        [-8.6659],\n",
       "        [-9.6444]], grad_fn=<AddBackward0>)"
      ]
     },
     "execution_count": 193,
     "metadata": {},
     "output_type": "execute_result"
    }
   ],
   "source": [
    "preds = linear1(batch)\n",
    "preds"
   ]
  },
  {
   "cell_type": "code",
   "execution_count": 182,
   "id": "8ec85d78-b1d5-484e-ae06-e344f714a205",
   "metadata": {},
   "outputs": [
    {
     "data": {
      "text/plain": [
       "tensor(0.6372, grad_fn=<MeanBackward0>)"
      ]
     },
     "execution_count": 182,
     "metadata": {},
     "output_type": "execute_result"
    }
   ],
   "source": [
    "loss = mnist_loss(preds, train_y[:4], \"sigm\")\n",
    "loss"
   ]
  },
  {
   "cell_type": "code",
   "execution_count": 183,
   "id": "9706c6fd-fb7b-433a-b6f1-fbdd8f265e4a",
   "metadata": {},
   "outputs": [
    {
     "data": {
      "text/plain": [
       "(torch.Size([784, 1]), tensor(-0.0089), tensor([-0.0621]))"
      ]
     },
     "execution_count": 183,
     "metadata": {},
     "output_type": "execute_result"
    }
   ],
   "source": [
    "loss.backward()\n",
    "weights.grad.shape, weights.grad.mean(), bias.grad"
   ]
  },
  {
   "cell_type": "code",
   "execution_count": 359,
   "id": "9f2d0492-2359-4fba-a7ef-f42385172c32",
   "metadata": {},
   "outputs": [],
   "source": [
    "def calc_grad(xb, yb, model):\n",
    "    weights.grad.zero_()\n",
    "    bias.grad.zero_();\n",
    "    \n",
    "    preds = model(xb)\n",
    "    preds.to(device)\n",
    "    loss = mnist_loss(preds, yb)\n",
    "    loss.to(device)\n",
    "    loss.backward()"
   ]
  },
  {
   "cell_type": "code",
   "execution_count": 205,
   "id": "20f52008-4b36-4458-9f57-96a2fe947704",
   "metadata": {},
   "outputs": [
    {
     "data": {
      "text/plain": [
       "(tensor(-0.0089), tensor([-0.0621]))"
      ]
     },
     "execution_count": 205,
     "metadata": {},
     "output_type": "execute_result"
    }
   ],
   "source": [
    "calc_grad(batch, train_y[:4], linear1)\n",
    "weights.grad.mean(), bias.grad"
   ]
  },
  {
   "cell_type": "code",
   "execution_count": 217,
   "id": "07dbb2f4-a2a4-41a6-84f2-deee2b4ee856",
   "metadata": {},
   "outputs": [],
   "source": [
    "def train_epoch(model, lr, params):\n",
    "    for xb,yb in dl:\n",
    "        calc_grad(xb, yb, model)\n",
    "        for p in params:\n",
    "            p.data -= p.grad * lr # If we assign to the data attribute of a tensor then PyTorch will not take the gradient of that step. \n",
    "            p.grad.zero_()"
   ]
  },
  {
   "cell_type": "code",
   "execution_count": 208,
   "id": "3eccdabf-4338-4e83-94d9-829d4853a939",
   "metadata": {},
   "outputs": [
    {
     "data": {
      "text/plain": [
       "tensor([[False],\n",
       "        [ True],\n",
       "        [False],\n",
       "        [False]])"
      ]
     },
     "execution_count": 208,
     "metadata": {},
     "output_type": "execute_result"
    }
   ],
   "source": [
    "(preds>0.0).float() == train_y[:4]"
   ]
  },
  {
   "cell_type": "code",
   "execution_count": 345,
   "id": "65d939d6-793e-4738-990b-8c8a26a7c674",
   "metadata": {},
   "outputs": [],
   "source": [
    "def batch_accuracy(xb, yb):\n",
    "    preds = xb.sigmoid()\n",
    "    correct = (preds > 0.5) == yb\n",
    "    return correct.float().mean()"
   ]
  },
  {
   "cell_type": "code",
   "execution_count": 210,
   "id": "29a1f858-853a-403f-95a5-679fa39ae8ba",
   "metadata": {},
   "outputs": [
    {
     "data": {
      "text/plain": [
       "tensor(0.2500)"
      ]
     },
     "execution_count": 210,
     "metadata": {},
     "output_type": "execute_result"
    }
   ],
   "source": [
    "batch_accuracy(linear1(batch), train_y[:4])"
   ]
  },
  {
   "cell_type": "code",
   "execution_count": 357,
   "id": "743d09cc-9135-414f-8cc1-ca16406bb5e0",
   "metadata": {},
   "outputs": [],
   "source": [
    "def validate_epoch(model):\n",
    "    accs = [batch_accuracy(model(xb), yb) for xb, yb in valid_dl]\n",
    "    return round(torch.stack(accs).mean().item(), 4)"
   ]
  },
  {
   "cell_type": "code",
   "execution_count": 214,
   "id": "65bb8570-261f-413b-b80e-f740670152eb",
   "metadata": {},
   "outputs": [
    {
     "data": {
      "text/plain": [
       "0.6249"
      ]
     },
     "execution_count": 214,
     "metadata": {},
     "output_type": "execute_result"
    }
   ],
   "source": [
    "validate_epoch(linear1)"
   ]
  },
  {
   "cell_type": "code",
   "execution_count": 222,
   "id": "11f9f6e6-f6da-4eb2-a642-8bef61deaaa7",
   "metadata": {},
   "outputs": [
    {
     "data": {
      "text/plain": [
       "0.703"
      ]
     },
     "execution_count": 222,
     "metadata": {},
     "output_type": "execute_result"
    }
   ],
   "source": [
    "lr = 1.\n",
    "params = weights, bias\n",
    "train_epoch(linear1, lr, params)\n",
    "validate_epoch(linear1)"
   ]
  },
  {
   "cell_type": "code",
   "execution_count": 223,
   "id": "f65199b8-dadd-4930-8578-bfd14f7f0e2a",
   "metadata": {},
   "outputs": [
    {
     "name": "stdout",
     "output_type": "stream",
     "text": [
      "0.8641 0.9208 0.9403 0.9525 0.9584 0.9628 0.9637 0.9657 0.9662 0.9671 0.9691 0.9701 0.9706 0.9711 0.9721 0.9716 0.9735 0.9735 0.9745 0.9755 "
     ]
    }
   ],
   "source": [
    "for i in range(20):\n",
    "    train_epoch(linear1, lr, params)\n",
    "    print(validate_epoch(linear1), end=' ')"
   ]
  },
  {
   "cell_type": "code",
   "execution_count": 224,
   "id": "2fd8769b-a7e9-4f87-8300-91905fcd58e5",
   "metadata": {},
   "outputs": [],
   "source": [
    "linear_model = nn.Linear(28 * 28, 1)"
   ]
  },
  {
   "cell_type": "code",
   "execution_count": 225,
   "id": "f4f8ad58-9dfc-453a-9404-1144d2bd5016",
   "metadata": {},
   "outputs": [
    {
     "data": {
      "text/plain": [
       "(torch.Size([1, 784]), torch.Size([1]))"
      ]
     },
     "execution_count": 225,
     "metadata": {},
     "output_type": "execute_result"
    }
   ],
   "source": [
    "w, b = linear_model.parameters()\n",
    "w.shape, b.shape"
   ]
  },
  {
   "cell_type": "code",
   "execution_count": 226,
   "id": "eb4fe95d-f711-4283-8fe0-5b4e770a8c2d",
   "metadata": {},
   "outputs": [],
   "source": [
    "class BasicOptim:\n",
    "    def __init__(self, params, lr): self.params, self.lr = list(params), lr\n",
    "\n",
    "    def step(self, *args, **kwargs):\n",
    "        for p in self.params: p.data -= p.grad.data * self.lr\n",
    "\n",
    "    def zero_grad(self, *args, **kwargs):\n",
    "        for p in self.params: p.grad = None"
   ]
  },
  {
   "cell_type": "code",
   "execution_count": 227,
   "id": "2793cbd9-53c8-47ad-9992-377d66706097",
   "metadata": {},
   "outputs": [],
   "source": [
    "opt = BasicOptim(linear_model.parameters(), lr)"
   ]
  },
  {
   "cell_type": "code",
   "execution_count": 228,
   "id": "7e44e9ed-a491-4d88-baa1-ea6e71efcb45",
   "metadata": {},
   "outputs": [],
   "source": [
    "def train_epoch(model):\n",
    "    for xb, yb in dl:\n",
    "        calc_grad(xb, yb, model)\n",
    "        opt.step()\n",
    "        opt.zero_grad()"
   ]
  },
  {
   "cell_type": "code",
   "execution_count": 229,
   "id": "6269aa1b-3d19-40fa-9440-aa600c940146",
   "metadata": {},
   "outputs": [
    {
     "data": {
      "text/plain": [
       "0.4341"
      ]
     },
     "execution_count": 229,
     "metadata": {},
     "output_type": "execute_result"
    }
   ],
   "source": [
    "validate_epoch(linear_model)"
   ]
  },
  {
   "cell_type": "code",
   "execution_count": 355,
   "id": "c4be3c70-4680-4773-9ece-9061ab12d481",
   "metadata": {},
   "outputs": [],
   "source": [
    "def train_model(model, epochs):\n",
    "    for i in range(epochs):\n",
    "        train_epoch(model)\n",
    "        print(validate_epoch(model), end=' ')"
   ]
  },
  {
   "cell_type": "code",
   "execution_count": 231,
   "id": "d92a0aa8-3c61-4b56-ad41-16fab6e1ec0f",
   "metadata": {},
   "outputs": [
    {
     "name": "stdout",
     "output_type": "stream",
     "text": [
      "0.4932 0.7607 0.855 0.916 0.935 0.9502 0.9555 0.9634 0.9658 0.9673 0.9687 0.9717 0.9736 0.9741 0.9761 0.977 0.9775 0.9775 0.9785 0.9785 "
     ]
    }
   ],
   "source": [
    "train_model(linear_model, 20)"
   ]
  },
  {
   "cell_type": "code",
   "execution_count": 377,
   "id": "cc04fe25-4b37-41d3-a56f-22da596fa618",
   "metadata": {},
   "outputs": [
    {
     "name": "stdout",
     "output_type": "stream",
     "text": [
      "0.9819 0.9824 0.9824 0.9824 0.9829 0.9834 0.9834 0.9838 0.9838 0.9838 0.9838 0.9838 0.9838 0.9843 0.9843 0.9843 0.9843 0.9843 0.9843 0.9843 "
     ]
    }
   ],
   "source": [
    "linear_model == nn.Linear(28*28, 1)\n",
    "opt = SGD(linear_model.parameters(), lr)\n",
    "train_model(linear_model, 20)"
   ]
  },
  {
   "cell_type": "code",
   "execution_count": 378,
   "id": "5e30135b-eaa8-4024-b811-0c0f79454d2b",
   "metadata": {},
   "outputs": [],
   "source": [
    "dls = DataLoaders(dl, valid_dl)"
   ]
  },
  {
   "cell_type": "code",
   "execution_count": 379,
   "id": "31e0b91d-64a4-43e9-bd87-afd7752f1e2f",
   "metadata": {},
   "outputs": [],
   "source": [
    "learn = Learner(dls, nn.Linear(28 * 28, 1), opt_func = SGD,\n",
    "                loss_func = mnist_loss, metrics = batch_accuracy)"
   ]
  },
  {
   "cell_type": "code",
   "execution_count": 380,
   "id": "2119afe4-1e61-4125-9ad1-0b5fa84c3ce5",
   "metadata": {},
   "outputs": [
    {
     "data": {
      "text/html": [
       "\n",
       "<style>\n",
       "    /* Turns off some styling */\n",
       "    progress {\n",
       "        /* gets rid of default border in Firefox and Opera. */\n",
       "        border: none;\n",
       "        /* Needs to be in here for Safari polyfill so background images work as expected. */\n",
       "        background-size: auto;\n",
       "    }\n",
       "    progress:not([value]), progress:not([value])::-webkit-progress-bar {\n",
       "        background: repeating-linear-gradient(45deg, #7e7e7e, #7e7e7e 10px, #5c5c5c 10px, #5c5c5c 20px);\n",
       "    }\n",
       "    .progress-bar-interrupted, .progress-bar-interrupted::-webkit-progress-bar {\n",
       "        background: #F44336;\n",
       "    }\n",
       "</style>\n"
      ],
      "text/plain": [
       "<IPython.core.display.HTML object>"
      ]
     },
     "metadata": {},
     "output_type": "display_data"
    },
    {
     "data": {
      "text/html": [
       "<table border=\"1\" class=\"dataframe\">\n",
       "  <thead>\n",
       "    <tr style=\"text-align: left;\">\n",
       "      <th>epoch</th>\n",
       "      <th>train_loss</th>\n",
       "      <th>valid_loss</th>\n",
       "      <th>batch_accuracy</th>\n",
       "      <th>time</th>\n",
       "    </tr>\n",
       "  </thead>\n",
       "  <tbody>\n",
       "    <tr>\n",
       "      <td>0</td>\n",
       "      <td>0.218104</td>\n",
       "      <td>0.372347</td>\n",
       "      <td>0.535819</td>\n",
       "      <td>00:00</td>\n",
       "    </tr>\n",
       "    <tr>\n",
       "      <td>1</td>\n",
       "      <td>0.121824</td>\n",
       "      <td>0.185109</td>\n",
       "      <td>0.868989</td>\n",
       "      <td>00:00</td>\n",
       "    </tr>\n",
       "    <tr>\n",
       "      <td>2</td>\n",
       "      <td>0.083600</td>\n",
       "      <td>0.108291</td>\n",
       "      <td>0.935231</td>\n",
       "      <td>00:00</td>\n",
       "    </tr>\n",
       "    <tr>\n",
       "      <td>3</td>\n",
       "      <td>0.065388</td>\n",
       "      <td>0.080417</td>\n",
       "      <td>0.954367</td>\n",
       "      <td>00:00</td>\n",
       "    </tr>\n",
       "    <tr>\n",
       "      <td>4</td>\n",
       "      <td>0.055581</td>\n",
       "      <td>0.066881</td>\n",
       "      <td>0.963199</td>\n",
       "      <td>00:00</td>\n",
       "    </tr>\n",
       "    <tr>\n",
       "      <td>5</td>\n",
       "      <td>0.049680</td>\n",
       "      <td>0.058964</td>\n",
       "      <td>0.964671</td>\n",
       "      <td>00:00</td>\n",
       "    </tr>\n",
       "    <tr>\n",
       "      <td>6</td>\n",
       "      <td>0.045749</td>\n",
       "      <td>0.053758</td>\n",
       "      <td>0.966143</td>\n",
       "      <td>00:00</td>\n",
       "    </tr>\n",
       "    <tr>\n",
       "      <td>7</td>\n",
       "      <td>0.042900</td>\n",
       "      <td>0.050053</td>\n",
       "      <td>0.967125</td>\n",
       "      <td>00:00</td>\n",
       "    </tr>\n",
       "    <tr>\n",
       "      <td>8</td>\n",
       "      <td>0.040699</td>\n",
       "      <td>0.047265</td>\n",
       "      <td>0.969087</td>\n",
       "      <td>00:00</td>\n",
       "    </tr>\n",
       "    <tr>\n",
       "      <td>9</td>\n",
       "      <td>0.038918</td>\n",
       "      <td>0.045080</td>\n",
       "      <td>0.969578</td>\n",
       "      <td>00:00</td>\n",
       "    </tr>\n",
       "  </tbody>\n",
       "</table>"
      ],
      "text/plain": [
       "<IPython.core.display.HTML object>"
      ]
     },
     "metadata": {},
     "output_type": "display_data"
    }
   ],
   "source": [
    "learn.fit(10, .1)"
   ]
  },
  {
   "cell_type": "code",
   "execution_count": 242,
   "id": "426ebd59-1924-4be8-a16a-d3d46cd7fe4f",
   "metadata": {},
   "outputs": [],
   "source": [
    "#def simple_net(xb):\n",
    "#    res = xb@w1 + b1 # Linear Layer\n",
    "#    res = res.max(tensor(0.0)) # Nonlinearity / Activation Function; Rectified linear unit (ReLU)\n",
    "#    res = res@w2 + b2 # Linear Layer\n",
    "#    return res"
   ]
  },
  {
   "cell_type": "code",
   "execution_count": 381,
   "id": "ce111dfa-2519-40e6-866b-d52daa935735",
   "metadata": {},
   "outputs": [
    {
     "data": {
      "text/plain": [
       "0.9695780277252197"
      ]
     },
     "execution_count": 381,
     "metadata": {},
     "output_type": "execute_result"
    },
    {
     "data": {
      "image/png": "[encoded data removed]",
      "text/plain": [
       "<Figure size 640x480 with 1 Axes>"
      ]
     },
     "metadata": {},
     "output_type": "display_data"
    }
   ],
   "source": [
    "plt.plot(L(learn.recorder.values).itemgot(2));\n",
    "learn.recorder.values[-1][2]"
   ]
  },
  {
   "cell_type": "code",
   "execution_count": 372,
   "id": "59199b5a-6b02-482c-a43c-a8f54fc2fd58",
   "metadata": {},
   "outputs": [],
   "source": [
    "simple_net = nn.Sequential(\n",
    "    nn.Linear(28 * 28, 30),\n",
    "    nn.ReLU(),\n",
    "    nn.Linear(30, 1)\n",
    ")"
   ]
  },
  {
   "cell_type": "code",
   "execution_count": 373,
   "id": "cd1dd00c-3aee-4187-a931-288f07438c24",
   "metadata": {},
   "outputs": [],
   "source": [
    "learn = Learner(dls, simple_net, opt_func = SGD,\n",
    "                loss_func = mnist_loss, metrics = batch_accuracy)"
   ]
  },
  {
   "cell_type": "code",
   "execution_count": 374,
   "id": "1a76c4ec-7c72-48fc-b7e8-4091bed6b269",
   "metadata": {
    "scrolled": true
   },
   "outputs": [
    {
     "data": {
      "text/html": [
       "\n",
       "<style>\n",
       "    /* Turns off some styling */\n",
       "    progress {\n",
       "        /* gets rid of default border in Firefox and Opera. */\n",
       "        border: none;\n",
       "        /* Needs to be in here for Safari polyfill so background images work as expected. */\n",
       "        background-size: auto;\n",
       "    }\n",
       "    progress:not([value]), progress:not([value])::-webkit-progress-bar {\n",
       "        background: repeating-linear-gradient(45deg, #7e7e7e, #7e7e7e 10px, #5c5c5c 10px, #5c5c5c 20px);\n",
       "    }\n",
       "    .progress-bar-interrupted, .progress-bar-interrupted::-webkit-progress-bar {\n",
       "        background: #F44336;\n",
       "    }\n",
       "</style>\n"
      ],
      "text/plain": [
       "<IPython.core.display.HTML object>"
      ]
     },
     "metadata": {},
     "output_type": "display_data"
    },
    {
     "data": {
      "text/html": [
       "<table border=\"1\" class=\"dataframe\">\n",
       "  <thead>\n",
       "    <tr style=\"text-align: left;\">\n",
       "      <th>epoch</th>\n",
       "      <th>train_loss</th>\n",
       "      <th>valid_loss</th>\n",
       "      <th>batch_accuracy</th>\n",
       "      <th>time</th>\n",
       "    </tr>\n",
       "  </thead>\n",
       "  <tbody>\n",
       "    <tr>\n",
       "      <td>0</td>\n",
       "      <td>0.278420</td>\n",
       "      <td>0.411867</td>\n",
       "      <td>0.504907</td>\n",
       "      <td>00:00</td>\n",
       "    </tr>\n",
       "    <tr>\n",
       "      <td>1</td>\n",
       "      <td>0.134109</td>\n",
       "      <td>0.209757</td>\n",
       "      <td>0.824828</td>\n",
       "      <td>00:00</td>\n",
       "    </tr>\n",
       "    <tr>\n",
       "      <td>2</td>\n",
       "      <td>0.075745</td>\n",
       "      <td>0.107889</td>\n",
       "      <td>0.923454</td>\n",
       "      <td>00:00</td>\n",
       "    </tr>\n",
       "    <tr>\n",
       "      <td>3</td>\n",
       "      <td>0.050827</td>\n",
       "      <td>0.074179</td>\n",
       "      <td>0.944063</td>\n",
       "      <td>00:00</td>\n",
       "    </tr>\n",
       "    <tr>\n",
       "      <td>4</td>\n",
       "      <td>0.039129</td>\n",
       "      <td>0.058477</td>\n",
       "      <td>0.960746</td>\n",
       "      <td>00:00</td>\n",
       "    </tr>\n",
       "    <tr>\n",
       "      <td>5</td>\n",
       "      <td>0.033064</td>\n",
       "      <td>0.049599</td>\n",
       "      <td>0.964671</td>\n",
       "      <td>00:00</td>\n",
       "    </tr>\n",
       "    <tr>\n",
       "      <td>6</td>\n",
       "      <td>0.029524</td>\n",
       "      <td>0.043993</td>\n",
       "      <td>0.965653</td>\n",
       "      <td>00:00</td>\n",
       "    </tr>\n",
       "    <tr>\n",
       "      <td>7</td>\n",
       "      <td>0.027194</td>\n",
       "      <td>0.040141</td>\n",
       "      <td>0.967615</td>\n",
       "      <td>00:00</td>\n",
       "    </tr>\n",
       "    <tr>\n",
       "      <td>8</td>\n",
       "      <td>0.025496</td>\n",
       "      <td>0.037331</td>\n",
       "      <td>0.969087</td>\n",
       "      <td>00:00</td>\n",
       "    </tr>\n",
       "    <tr>\n",
       "      <td>9</td>\n",
       "      <td>0.024172</td>\n",
       "      <td>0.035178</td>\n",
       "      <td>0.972031</td>\n",
       "      <td>00:00</td>\n",
       "    </tr>\n",
       "    <tr>\n",
       "      <td>10</td>\n",
       "      <td>0.023091</td>\n",
       "      <td>0.033463</td>\n",
       "      <td>0.973013</td>\n",
       "      <td>00:00</td>\n",
       "    </tr>\n",
       "    <tr>\n",
       "      <td>11</td>\n",
       "      <td>0.022185</td>\n",
       "      <td>0.032054</td>\n",
       "      <td>0.973994</td>\n",
       "      <td>00:00</td>\n",
       "    </tr>\n",
       "    <tr>\n",
       "      <td>12</td>\n",
       "      <td>0.021413</td>\n",
       "      <td>0.030869</td>\n",
       "      <td>0.974975</td>\n",
       "      <td>00:00</td>\n",
       "    </tr>\n",
       "    <tr>\n",
       "      <td>13</td>\n",
       "      <td>0.020742</td>\n",
       "      <td>0.029851</td>\n",
       "      <td>0.976448</td>\n",
       "      <td>00:00</td>\n",
       "    </tr>\n",
       "    <tr>\n",
       "      <td>14</td>\n",
       "      <td>0.020155</td>\n",
       "      <td>0.028962</td>\n",
       "      <td>0.976448</td>\n",
       "      <td>00:00</td>\n",
       "    </tr>\n",
       "    <tr>\n",
       "      <td>15</td>\n",
       "      <td>0.019634</td>\n",
       "      <td>0.028176</td>\n",
       "      <td>0.976938</td>\n",
       "      <td>00:00</td>\n",
       "    </tr>\n",
       "    <tr>\n",
       "      <td>16</td>\n",
       "      <td>0.019167</td>\n",
       "      <td>0.027477</td>\n",
       "      <td>0.976938</td>\n",
       "      <td>00:00</td>\n",
       "    </tr>\n",
       "    <tr>\n",
       "      <td>17</td>\n",
       "      <td>0.018746</td>\n",
       "      <td>0.026848</td>\n",
       "      <td>0.977429</td>\n",
       "      <td>00:00</td>\n",
       "    </tr>\n",
       "    <tr>\n",
       "      <td>18</td>\n",
       "      <td>0.018363</td>\n",
       "      <td>0.026280</td>\n",
       "      <td>0.977920</td>\n",
       "      <td>00:00</td>\n",
       "    </tr>\n",
       "    <tr>\n",
       "      <td>19</td>\n",
       "      <td>0.018012</td>\n",
       "      <td>0.025763</td>\n",
       "      <td>0.978410</td>\n",
       "      <td>00:00</td>\n",
       "    </tr>\n",
       "  </tbody>\n",
       "</table>"
      ],
      "text/plain": [
       "<IPython.core.display.HTML object>"
      ]
     },
     "metadata": {},
     "output_type": "display_data"
    }
   ],
   "source": [
    "learn.fit(20, 0.1)"
   ]
  },
  {
   "cell_type": "code",
   "execution_count": 375,
   "id": "7615f85d-201b-4549-b7cc-2c15ce9ce993",
   "metadata": {},
   "outputs": [
    {
     "data": {
      "image/png": "[encoded data removed]",
      "text/plain": [
       "<Figure size 640x480 with 1 Axes>"
      ]
     },
     "metadata": {},
     "output_type": "display_data"
    }
   ],
   "source": [
    "plt.plot(L(learn.recorder.values).itemgot(2));"
   ]
  },
  {
   "cell_type": "code",
   "execution_count": 376,
   "id": "168ec36d-b6fc-4e24-bebd-3423d64b287b",
   "metadata": {},
   "outputs": [
    {
     "data": {
      "text/plain": [
       "0.9784101843833923"
      ]
     },
     "execution_count": 376,
     "metadata": {},
     "output_type": "execute_result"
    }
   ],
   "source": [
    "learn.recorder.values[-1][2]"
   ]
  },
  {
   "cell_type": "code",
   "execution_count": 248,
   "id": "98c2bbdb-0928-49b8-b28e-79305a313bdc",
   "metadata": {},
   "outputs": [
    {
     "data": {
      "text/html": [
       "\n",
       "<style>\n",
       "    /* Turns off some styling */\n",
       "    progress {\n",
       "        /* gets rid of default border in Firefox and Opera. */\n",
       "        border: none;\n",
       "        /* Needs to be in here for Safari polyfill so background images work as expected. */\n",
       "        background-size: auto;\n",
       "    }\n",
       "    progress:not([value]), progress:not([value])::-webkit-progress-bar {\n",
       "        background: repeating-linear-gradient(45deg, #7e7e7e, #7e7e7e 10px, #5c5c5c 10px, #5c5c5c 20px);\n",
       "    }\n",
       "    .progress-bar-interrupted, .progress-bar-interrupted::-webkit-progress-bar {\n",
       "        background: #F44336;\n",
       "    }\n",
       "</style>\n"
      ],
      "text/plain": [
       "<IPython.core.display.HTML object>"
      ]
     },
     "metadata": {},
     "output_type": "display_data"
    },
    {
     "data": {
      "text/html": [
       "<table border=\"1\" class=\"dataframe\">\n",
       "  <thead>\n",
       "    <tr style=\"text-align: left;\">\n",
       "      <th>epoch</th>\n",
       "      <th>train_loss</th>\n",
       "      <th>valid_loss</th>\n",
       "      <th>accuracy</th>\n",
       "      <th>time</th>\n",
       "    </tr>\n",
       "  </thead>\n",
       "  <tbody>\n",
       "    <tr>\n",
       "      <td>0</td>\n",
       "      <td>0.072619</td>\n",
       "      <td>0.012108</td>\n",
       "      <td>0.995093</td>\n",
       "      <td>00:12</td>\n",
       "    </tr>\n",
       "  </tbody>\n",
       "</table>"
      ],
      "text/plain": [
       "<IPython.core.display.HTML object>"
      ]
     },
     "metadata": {},
     "output_type": "display_data"
    }
   ],
   "source": [
    "dls = ImageDataLoaders.from_folder(path)\n",
    "learn = vision_learner(dls, resnet18, pretrained = False,\n",
    "                       loss_func = F.cross_entropy, metrics = accuracy)\n",
    "learn.fit_one_cycle(1, 0.1)"
   ]
  }
 ],
 "metadata": {
  "kernelspec": {
   "display_name": "Python (fastai)",
   "language": "python",
   "name": "fastai-venv"
  },
  "language_info": {
   "codemirror_mode": {
    "name": "ipython",
    "version": 3
   },
   "file_extension": ".py",
   "mimetype": "text/x-python",
   "name": "python",
   "nbconvert_exporter": "python",
   "pygments_lexer": "ipython3",
   "version": "3.12.4"
  }
 },
 "nbformat": 4,
 "nbformat_minor": 5
}
